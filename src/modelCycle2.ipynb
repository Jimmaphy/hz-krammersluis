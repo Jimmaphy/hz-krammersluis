{
 "cells": [
  {
   "cell_type": "markdown",
   "id": "da6b5210-a231-4ea8-8562-3b171f9f2d4b",
   "metadata": {},
   "source": [
    "# before replacement"
   ]
  },
  {
   "cell_type": "code",
   "execution_count": null,
   "id": "4b3ac54c",
   "metadata": {},
   "outputs": [],
   "source": [
    "import pandas\n",
    "import matplotlib.pyplot as plot\n",
    "from sklearn.metrics import mean_squared_error, mean_absolute_error, r2_score, mean_absolute_percentage_error\n",
    "from sklearn.ensemble import RandomForestRegressor\n",
    "from sklearn.model_selection import GridSearchCV, cross_val_score\n",
    "from sklearn.model_selection import train_test_split"
   ]
  },
  {
   "cell_type": "code",
   "execution_count": null,
   "id": "dcdf0cb2-930d-4238-950a-26e902a2fbe5",
   "metadata": {},
   "outputs": [],
   "source": [
    "before_water_data = pandas.read_csv('../data/cleaned_before.csv')\n",
    "\n",
    "# datetime object maken van datetime\n",
    "before_water_data['datetime'] = pandas.to_datetime(before_water_data['datetime'])\n"
   ]
  },
  {
   "cell_type": "markdown",
   "id": "cf46d673",
   "metadata": {},
   "source": [
    "Deze functie maakt de lag features voor ons mode. hier kan je invullen hoeveel dagen je terug wilt, en hoeveel stappen terug de lag features zijn"
   ]
  },
  {
   "cell_type": "code",
   "execution_count": null,
   "id": "63f156ef",
   "metadata": {},
   "outputs": [],
   "source": [
    "def create_lag_features(df, feature, lag, step_size):\n",
    "    for i in range(1, lag + 1):\n",
    "        if (i - 1) % step_size == 0:\n",
    "            df[f'{feature}_lag_{i}'] = df[feature].shift(i)\n",
    "    df = df.dropna()  # wegja halen van de NaN waardes door het shiften van de data\n",
    "    return df"
   ]
  },
  {
   "cell_type": "code",
   "execution_count": null,
   "id": "cf60560a",
   "metadata": {},
   "outputs": [],
   "source": [
    "before_water_data = create_lag_features(before_water_data, 'water_level_cmNAP', 6, 2)\n",
    "before_water_data"
   ]
  },
  {
   "cell_type": "markdown",
   "id": "3e0be20c",
   "metadata": {},
   "source": [
    "Lock movement is toegevoegd omdat uit visualisaties bleek dat deze een grote correlatie heeft met het energie gebruik. De motor gebruikt meer energie wanneer de sluis deuren open gaan vergeleken met wanneer ze dicht gaan"
   ]
  },
  {
   "cell_type": "code",
   "execution_count": null,
   "id": "1495b776",
   "metadata": {},
   "outputs": [],
   "source": [
    "# vervangt lock movement met boolean, zodat het gebruikt wordt door ons model\n",
    "before_water_data.lock_movement = before_water_data['lock_movement'].replace('closing', 0)\n",
    "before_water_data.lock_movement = before_water_data['lock_movement'].replace('opening', 1)\n"
   ]
  },
  {
   "cell_type": "markdown",
   "id": "a3a8bbf0",
   "metadata": {},
   "source": [
    "Onze theorie was dat de motor minder efficient draait hoe langer het is dat het onderstel voor het laatst vervangen is. Dit blijkt ook waar te zijn, omdat het aantal dagen verschil een hele grote correlatie heeft met het energie verbruik"
   ]
  },
  {
   "cell_type": "code",
   "execution_count": null,
   "id": "827b24a5",
   "metadata": {},
   "outputs": [],
   "source": [
    "min_date = before_water_data[before_water_data['undercarriage_replacement'].diff() == 0].index[0]\n",
    "\n",
    "# aantal dagen verschil tussen dag en dag van onderstel vervanging\n",
    "before_water_data['date difference'] = (before_water_data['datetime'] - before_water_data.datetime[min_date]).dt.days\n",
    "before_water_data.head()"
   ]
  },
  {
   "cell_type": "markdown",
   "id": "502d9efa",
   "metadata": {},
   "source": [
    "Hier slaan we de correlaties op waar de heatmap van gemaakt wordt"
   ]
  },
  {
   "cell_type": "code",
   "execution_count": null,
   "id": "e2240845",
   "metadata": {},
   "outputs": [],
   "source": [
    "# de correlatie van onze numerieke data\n",
    "whole_corr = before_water_data.select_dtypes(include=['float64', 'int64', 'int32']).corr()"
   ]
  },
  {
   "cell_type": "code",
   "execution_count": null,
   "id": "09b5e0af",
   "metadata": {},
   "outputs": [],
   "source": [
    "import seaborn\n",
    "\n",
    "plot.figure(figsize=(10, 8))\n",
    "\n",
    "# plot de heatmap\n",
    "seaborn.heatmap(whole_corr, annot=True, cmap='coolwarm')\n",
    "\n",
    "# laat de plot zien\n",
    "plot.show()"
   ]
  },
  {
   "cell_type": "markdown",
   "id": "b79c76c2",
   "metadata": {},
   "source": [
    "## Het model"
   ]
  },
  {
   "cell_type": "markdown",
   "id": "2fc61331",
   "metadata": {},
   "source": [
    "Hier wordt de data opgesplitst in train en test data. Air temperature wordt hiervoor uitgesloten aangezien deze een hoge correlatie heeft met water temperatuur"
   ]
  },
  {
   "cell_type": "code",
   "execution_count": null,
   "id": "459e453c",
   "metadata": {},
   "outputs": [],
   "source": [
    "# alleen numerieke data gebruiken\n",
    "numeric_features = before_water_data.select_dtypes(include=[float, int]).columns\n",
    "before_water_data = before_water_data[numeric_features]\n",
    "\n",
    "\n",
    "# dataframe opsplitsen in features en target\n",
    "X_before = before_water_data.drop(['energy_proxy', 'air_temperature_01C'], axis=1)\n",
    "y_before = before_water_data['energy_proxy']\n",
    "\n",
    "# dataframe opsplitsen in train en test set\n",
    "X_train_before, X_test_before, y_train_before, y_test_before = train_test_split(X_before, y_before, test_size=0.2, random_state=42)\n",
    "X_before\n"
   ]
  },
  {
   "cell_type": "code",
   "execution_count": null,
   "id": "3946b0a1",
   "metadata": {},
   "outputs": [],
   "source": [
    "# de parameters voor de randomforest regressor\n",
    "param_grid = {\n",
    "    'n_estimators': [600],\n",
    "    'max_depth': [12],\n",
    "    'min_samples_split': [2, 4],\n",
    "    'min_samples_leaf': [6, 12]\n",
    "}\n",
    "\n",
    "# de randomForestRegressor\n",
    "random_forest_regressor = RandomForestRegressor(random_state=42)\n",
    "\n",
    "# grid search\n",
    "grid_search = GridSearchCV(estimator=random_forest_regressor, param_grid=param_grid, cv=5, n_jobs=-1, verbose=2)\n",
    "grid_search.fit(X_train_before, y_train_before)\n",
    "\n",
    "# pak beste estimator/ combinatie van parameters\n",
    "best_rf = grid_search.best_estimator_\n",
    "\n",
    "# voorspel met beste estimator\n",
    "y_pred_before = best_rf.predict(X_test_before)\n"
   ]
  },
  {
   "cell_type": "markdown",
   "id": "894372ae",
   "metadata": {},
   "source": [
    "Het opslaan van de scores"
   ]
  },
  {
   "cell_type": "code",
   "execution_count": null,
   "id": "0426efe3",
   "metadata": {},
   "outputs": [],
   "source": [
    "\n",
    "# bereken de scores\n",
    "mae = mean_absolute_error(y_test_before, y_pred_before)\n",
    "r2 = r2_score(y_test_before, y_pred_before)\n",
    "\n",
    "# Print de scores\n",
    "print(f\"Best Parameters: {grid_search.best_params_}\")\n",
    "print(f\"Mean Absolute Error: {mae}\")\n",
    "print(f\"R-squared: {r2}\")\n",
    "\n",
    "cv_scores = cross_val_score(best_rf, X_train_before, y_train_before, cv=5, scoring='neg_mean_absolute_error')\n",
    "print(f\"Cross-validate: {-cv_scores}\")\n"
   ]
  },
  {
   "cell_type": "markdown",
   "id": "2681437f",
   "metadata": {},
   "source": [
    "visualizaties van de voorspellingen"
   ]
  },
  {
   "cell_type": "code",
   "execution_count": null,
   "id": "b9ef2cd8",
   "metadata": {},
   "outputs": [],
   "source": [
    "# Scatter plot\n",
    "plot.scatter(y_pred_before, y_test_before, alpha=0.2)\n",
    "\n",
    "# diagonale lijn\n",
    "plot.plot([min(y_pred_before), max(y_pred_before)], [min(y_pred_before), max(y_pred_before)], color='red', alpha=0.5)\n",
    "\n",
    "# Labels en titel\n",
    "plot.title('Energy proxy voorspellingen van lineair regessie model v echte waarden')\n",
    "plot.xlim(2750000, 4000000)\n",
    "plot.ylim(2750000, 4000000)\n",
    "\n",
    "# laat de plot zien\n",
    "plot.show()"
   ]
  },
  {
   "cell_type": "code",
   "execution_count": null,
   "id": "bb3acb0d",
   "metadata": {},
   "outputs": [],
   "source": [
    "from sklearn.tree import plot_tree\n",
    "import matplotlib.pyplot as plt\n",
    "\n",
    "# werkt alleen als de kolommen een list zijn\n",
    "feature_names = X_train_before.columns.tolist()  # Assuming X_train is a DataFrame\n",
    "\n",
    "# Visualize the tree with a limited depth and adjusted spacing and text size\n",
    "plt.figure(figsize=(20, 10))\n",
    "plot_tree(best_rf.estimators_[0], feature_names=feature_names, filled=True, rounded=True, max_depth=3, proportion=True, fontsize=7)\n",
    "plt.show()"
   ]
  },
  {
   "cell_type": "code",
   "execution_count": null,
   "id": "b8fc6808",
   "metadata": {},
   "outputs": [],
   "source": [
    "results = pandas.DataFrame({'Actual': y_test_before, 'Predicted': y_pred_before})\n",
    "results = results.sort_index()\n",
    "\n",
    "plt.figure(figsize=(14, 7))\n",
    "plt.scatter(results.index, results['Actual'], label='Actual', color='blue')\n",
    "plt.scatter(results.index, results['Predicted'], label='Predicted', color='red', linestyle='--', alpha=0.4)\n",
    "plt.xlabel('Index (Tijd)')\n",
    "plt.ylabel('Energy Proxy')\n",
    "plt.title('Voorspelde waarden van linear regressie model & echte waarde')\n",
    "plt.legend()\n",
    "plt.show()"
   ]
  },
  {
   "cell_type": "code",
   "execution_count": null,
   "id": "2a8494b8",
   "metadata": {},
   "outputs": [],
   "source": [
    "# feature importance van beste estimator\n",
    "feature_importances = best_rf.feature_importances_\n",
    "features = X_train_before.columns\n",
    "\n",
    "# het maken van een dataframe om de feature importance te plotten\n",
    "importance_df = pandas.DataFrame({\n",
    "    'Feature': features,\n",
    "    'Importance': feature_importances\n",
    "})\n",
    "\n",
    "# sorteren op importance\n",
    "importance_df = importance_df.sort_values(by='Importance', ascending=False)\n",
    "\n",
    "# Plot\n",
    "plot.figure(figsize=(10, 8))\n",
    "seaborn.barplot(x='Importance', y='Feature', data=importance_df)\n",
    "plot.title('Feature Importance')\n",
    "plot.show()\n"
   ]
  },
  {
   "cell_type": "markdown",
   "id": "41517fd4",
   "metadata": {},
   "source": [
    "# after replacement"
   ]
  },
  {
   "cell_type": "code",
   "execution_count": null,
   "id": "43a09123",
   "metadata": {},
   "outputs": [],
   "source": [
    "import pandas\n",
    "import matplotlib.pyplot as plot\n",
    "from sklearn.model_selection import train_test_split\n",
    "from sklearn.metrics import mean_absolute_error, r2_score\n",
    "from sklearn.ensemble import RandomForestRegressor\n",
    "from sklearn.model_selection import GridSearchCV, cross_val_score\n"
   ]
  },
  {
   "cell_type": "markdown",
   "id": "33f6c6a8",
   "metadata": {},
   "source": [
    "### laden van de data"
   ]
  },
  {
   "cell_type": "code",
   "execution_count": null,
   "id": "78a0600c",
   "metadata": {},
   "outputs": [],
   "source": [
    "after_water_data = pandas.read_csv('../data/cleaned_after.csv')\n",
    "after_water_data['datetime'] = pandas.to_datetime(after_water_data['datetime'])"
   ]
  },
  {
   "cell_type": "markdown",
   "id": "59e27889",
   "metadata": {},
   "source": [
    "### toevoegen van variabelen"
   ]
  },
  {
   "cell_type": "markdown",
   "id": "19b86d84",
   "metadata": {},
   "source": [
    "Het toevoegen van de lag features. hier worden 3 kolommen gemaakt wat lag features zijn van water temp"
   ]
  },
  {
   "cell_type": "code",
   "execution_count": null,
   "id": "c001fedb",
   "metadata": {},
   "outputs": [],
   "source": [
    "def create_lag_features(df, feature, lag, step_size):\n",
    "    for i in range(1, lag + 1):\n",
    "        if (i - 1) % step_size == 0:\n",
    "            df[f'{feature}_lag_{i}'] = df[feature].shift(i)\n",
    "    df = df.dropna()  # wegja halen van de NaN waardes door het shiften van de data\n",
    "    return df\n",
    "\n",
    "after_water_data = create_lag_features(after_water_data, 'water_level_cmNAP', 6, 2)\n",
    "after_water_data"
   ]
  },
  {
   "cell_type": "markdown",
   "id": "41636921",
   "metadata": {},
   "source": [
    "voegt lock movement toe (dus of de lock opent of sluit) als boolean i.p.v. object"
   ]
  },
  {
   "cell_type": "code",
   "execution_count": null,
   "id": "19a0c37e",
   "metadata": {},
   "outputs": [],
   "source": [
    "after_water_data.lock_movement = after_water_data['lock_movement'].replace('closing', 0)\n",
    "after_water_data.lock_movement = after_water_data['lock_movement'].replace('opening', 1)"
   ]
  },
  {
   "cell_type": "markdown",
   "id": "625b06bc",
   "metadata": {},
   "source": [
    "Voegt als nieuwe variable het aantal dagen tot/ sinds de vervanging van het onderstel. Dit is gemaakto p de theorie dat de motor midner efficient werkt hoe langer het duurt dat het onderstel vervangen is"
   ]
  },
  {
   "cell_type": "code",
   "execution_count": null,
   "id": "1bd9b85e",
   "metadata": {},
   "outputs": [],
   "source": [
    "min_date = after_water_data[after_water_data['undercarriage_replacement'].diff() == 0].index[0]\n",
    "\n",
    "# aantal dagen verschil tussen dag en dag van onderstel vervanging\n",
    "after_water_data['date difference'] = (after_water_data['datetime'] - after_water_data.datetime[min_date]).dt.days\n",
    "after_water_data.head()"
   ]
  },
  {
   "cell_type": "markdown",
   "id": "dc78d62e",
   "metadata": {},
   "source": [
    "### De correlaties en heatmap"
   ]
  },
  {
   "cell_type": "code",
   "execution_count": null,
   "id": "28c97fd2",
   "metadata": {},
   "outputs": [],
   "source": [
    "whole_corr = after_water_data.select_dtypes(include=['float64', 'int64', 'int32']).corr()"
   ]
  },
  {
   "cell_type": "code",
   "execution_count": null,
   "id": "affa8ca1",
   "metadata": {},
   "outputs": [],
   "source": [
    "import seaborn\n",
    "\n",
    "plot.figure(figsize=(10, 8))\n",
    "\n",
    "# plot de heatmap\n",
    "seaborn.heatmap(whole_corr, annot=True, cmap='coolwarm')\n",
    "\n",
    "# laat de plot zien\n",
    "plot.show()"
   ]
  },
  {
   "cell_type": "markdown",
   "id": "19fba67f",
   "metadata": {},
   "source": [
    "### het opsplitsen en voorspellen van de data. "
   ]
  },
  {
   "cell_type": "code",
   "execution_count": null,
   "id": "47f12525",
   "metadata": {},
   "outputs": [],
   "source": [
    "# alleen numerieke data gebruiken\n",
    "numeric_features = after_water_data.select_dtypes(include=[float, int]).columns\n",
    "after_water_data = after_water_data[numeric_features]\n",
    "\n",
    "\n",
    "# dataframe opsplitsen in features en target\n",
    "X_after = after_water_data.drop(['energy_proxy', 'air_temperature_01C'], axis=1)\n",
    "y_after = after_water_data['energy_proxy']\n",
    "\n",
    "# dataframe opsplitsen in train en test set\n",
    "X_train_after, X_test_after, y_train_after, y_test_after = train_test_split(X_after, y_after, test_size=0.2, random_state=42)\n",
    "X_after\n"
   ]
  },
  {
   "cell_type": "code",
   "execution_count": null,
   "id": "db596d82",
   "metadata": {},
   "outputs": [],
   "source": [
    "\n",
    "# de parameters voor de randomforest regressor\n",
    "param_grid = {\n",
    "    'n_estimators': [600],\n",
    "    'max_depth': [10, 12],\n",
    "    'min_samples_split': [2, 4],\n",
    "    'min_samples_leaf': [6, 12]\n",
    "}\n",
    "\n",
    "# de randomForestRegressor\n",
    "random_forest_regressor = RandomForestRegressor(random_state=42)\n",
    "\n",
    "# grid search\n",
    "grid_search = GridSearchCV(estimator=random_forest_regressor, param_grid=param_grid, cv=5, n_jobs=-1, verbose=2)\n",
    "grid_search.fit(X_train_after, y_train_after)\n",
    "\n",
    "# pak beste estimator/ combinatie van parameters\n",
    "best_rf = grid_search.best_estimator_\n",
    "\n",
    "# voorspel met beste estimator\n",
    "y_pred_after = best_rf.predict(X_test_after)\n"
   ]
  },
  {
   "cell_type": "markdown",
   "id": "124cd544",
   "metadata": {},
   "source": [
    "Hier worden de verschillende scores geprint, zoals de MAE, MAPE en de cross validatie resultaten"
   ]
  },
  {
   "cell_type": "code",
   "execution_count": null,
   "id": "609e2af0",
   "metadata": {},
   "outputs": [],
   "source": [
    "mape = mean_absolute_percentage_error(y_test_after, y_pred_after)\n",
    "mae = mean_absolute_error(y_test_after, y_pred_after)\n",
    "r2 = r2_score(y_test_after, y_pred_after)\n",
    "\n",
    "# Print de scores\n",
    "print(f\"Best Parameters: {grid_search.best_params_}\")\n",
    "print(f\"Best mape: {mape * 100}\")\n",
    "print(f\"Mean Absolute Error: {mae}\")\n",
    "print(f\"R-squared: {r2}\")\n",
    "\n",
    "cv_scores = cross_val_score(best_rf, X_train_after, y_train_after, cv=5, scoring='neg_mean_absolute_error')\n",
    "print(f\"Cross-validate: {-cv_scores}\")"
   ]
  },
  {
   "cell_type": "markdown",
   "id": "6d66cf9d",
   "metadata": {},
   "source": [
    "### Visualisaties van de voorspellingen"
   ]
  },
  {
   "cell_type": "code",
   "execution_count": null,
   "id": "6c7a82c9",
   "metadata": {},
   "outputs": [],
   "source": [
    "# Scatter plot\n",
    "plot.scatter(y_pred_after, y_test_after, alpha=0.2)\n",
    "\n",
    "# diagonale lijn\n",
    "plot.plot([min(y_pred_after), max(y_pred_after)], [min(y_pred_after), max(y_pred_after)], color='red', alpha=0.5)\n",
    "\n",
    "# Labels en titel\n",
    "plot.title('Energy proxy voorspellingen van lineair regessie model v echte waarden')\n",
    "plot.xlim(2100000, 3100000)\n",
    "plot.ylim(2100000, 3100000)\n",
    "\n",
    "# laat de plot zien\n",
    "plot.show()"
   ]
  },
  {
   "cell_type": "code",
   "execution_count": null,
   "id": "2f81dd52",
   "metadata": {},
   "outputs": [],
   "source": [
    "results = pandas.DataFrame({'Actual': y_test_after, 'Predicted': y_pred_after})\n",
    "results = results.sort_index()\n",
    "\n",
    "plt.figure(figsize=(14, 7))\n",
    "plt.scatter(results.index, results['Actual'], label='Actual', color='blue', s=35)\n",
    "plt.scatter(results.index, results['Predicted'], label='Predicted', color='red', linestyle='--', alpha=0.4, s=35)\n",
    "plt.xlabel('Index (Time)')\n",
    "plt.ylabel('Energy Proxy')\n",
    "plt.title('Voorspelde waarden van linear regressie model & echte waarde')\n",
    "plt.legend()\n",
    "plt.show()"
   ]
  },
  {
   "cell_type": "markdown",
   "id": "9eaa25ce",
   "metadata": {},
   "source": [
    "het visualizeren van de beste boom van de random forest"
   ]
  },
  {
   "cell_type": "code",
   "execution_count": null,
   "id": "5493c514",
   "metadata": {},
   "outputs": [],
   "source": [
    "from sklearn.tree import plot_tree\n",
    "import matplotlib.pyplot as plt\n",
    "\n",
    "# werkt alleen als de kolommen een list zijn\n",
    "feature_names = X_train_after.columns.tolist()  # Assuming X_train is a DataFrame\n",
    "\n",
    "# Visualize the tree with a limited depth and adjusted spacing and text size\n",
    "plt.figure(figsize=(20, 10))\n",
    "plot_tree(best_rf.estimators_[0], feature_names=feature_names, filled=True, rounded=True, max_depth=3, proportion=True, fontsize=7)\n",
    "plt.show()\n"
   ]
  },
  {
   "cell_type": "markdown",
   "id": "f0a29922",
   "metadata": {},
   "source": [
    "feature importance"
   ]
  },
  {
   "cell_type": "code",
   "execution_count": null,
   "id": "5fab6536",
   "metadata": {},
   "outputs": [],
   "source": [
    "# feature importance van beste estimator\n",
    "feature_importances = best_rf.feature_importances_\n",
    "features = X_train_after.columns\n",
    "\n",
    "# het maken van een dataframe om de feature importance te plotten\n",
    "importance_df = pandas.DataFrame({\n",
    "    'Feature': features,\n",
    "    'Importance': feature_importances\n",
    "})\n",
    "\n",
    "# sorteren op importance\n",
    "importance_df = importance_df.sort_values(by='Importance', ascending=False)\n",
    "\n",
    "# Plot\n",
    "plot.figure(figsize=(10, 8))\n",
    "seaborn.barplot(x='Importance', y='Feature', data=importance_df)\n",
    "plot.title('Feature Importance')\n",
    "plot.show()"
   ]
  },
  {
   "cell_type": "markdown",
   "id": "29562ed8",
   "metadata": {},
   "source": [
    "# gehele dataset"
   ]
  },
  {
   "cell_type": "code",
   "execution_count": null,
   "id": "082d6d33",
   "metadata": {},
   "outputs": [],
   "source": [
    "import pandas\n",
    "import matplotlib.pyplot as plot\n",
    "from sklearn.model_selection import train_test_split\n",
    "from sklearn.metrics import mean_absolute_error, r2_score\n",
    "from sklearn.ensemble import RandomForestRegressor\n",
    "from sklearn.model_selection import GridSearchCV, cross_val_score\n"
   ]
  },
  {
   "cell_type": "markdown",
   "id": "f8caf278",
   "metadata": {},
   "source": [
    "### importeren van de data"
   ]
  },
  {
   "cell_type": "code",
   "execution_count": null,
   "id": "c0375c8b",
   "metadata": {},
   "outputs": [],
   "source": [
    "all_water_data = pandas.read_csv('../data/cleaned_all.csv')\n",
    "\n",
    "all_water_data['datetime'] = pandas.to_datetime(all_water_data['datetime'])\n",
    "all_water_data.info()"
   ]
  },
  {
   "cell_type": "markdown",
   "id": "bf5a84c1",
   "metadata": {},
   "source": [
    "### nieuwe features toevoegen"
   ]
  },
  {
   "cell_type": "markdown",
   "id": "9960ac08",
   "metadata": {},
   "source": [
    "Dit voegt de lag features toe voor water level aan de hand van de functie. Hier kan je aangeven hoe veel rijen het model terug gaat, en in hoeveel stappen dit moet gebeuren"
   ]
  },
  {
   "cell_type": "code",
   "execution_count": null,
   "id": "8ba81176",
   "metadata": {},
   "outputs": [],
   "source": [
    "def create_lag_features(df, feature, lag, step_size):\n",
    "    for i in range(1, lag + 1):\n",
    "        if (i - 1) % step_size == 0:\n",
    "            df[f'{feature}_lag_{i}'] = df[feature].shift(i)\n",
    "    df = df.dropna()  # wegja halen van de NaN waardes door het shiften van de data\n",
    "    return df\n",
    "all_water_data = create_lag_features(all_water_data, 'water_level_cmNAP', 6, 2)"
   ]
  },
  {
   "cell_type": "markdown",
   "id": "5aeee1b0",
   "metadata": {},
   "source": [
    "Voegt de richting dat de sluisdeuren gaan toe aan de dataset"
   ]
  },
  {
   "cell_type": "code",
   "execution_count": null,
   "id": "6ab37a3f",
   "metadata": {},
   "outputs": [],
   "source": [
    "all_water_data.lock_movement = all_water_data['lock_movement'].replace('closing', 0)\n",
    "all_water_data.lock_movement = all_water_data['lock_movement'].replace('opening', 1)\n"
   ]
  },
  {
   "cell_type": "markdown",
   "id": "6344ef10",
   "metadata": {},
   "source": [
    "Het aantal dagen verschil tussen de dag en wanneer het onderstel vervangen is"
   ]
  },
  {
   "cell_type": "code",
   "execution_count": null,
   "id": "f055a313",
   "metadata": {},
   "outputs": [],
   "source": [
    "min_date = all_water_data[all_water_data['undercarriage_replacement'].diff() == 0].index[0]\n",
    "\n",
    "# aantal dagen verschil tussen dag en dag van onderstel vervanging\n",
    "all_water_data['date difference'] = (all_water_data['datetime'] - all_water_data.datetime[min_date]).dt.days\n",
    "all_water_data.head()\n"
   ]
  },
  {
   "cell_type": "markdown",
   "id": "bcc326ee",
   "metadata": {},
   "source": [
    "### de correlaties en heatmap"
   ]
  },
  {
   "cell_type": "code",
   "execution_count": null,
   "id": "6734aab9",
   "metadata": {},
   "outputs": [],
   "source": [
    "whole_corr = after_water_data.select_dtypes(include=['float64', 'int64', 'int32']).corr()"
   ]
  },
  {
   "cell_type": "code",
   "execution_count": null,
   "id": "d23ecffb",
   "metadata": {},
   "outputs": [],
   "source": [
    "import seaborn\n",
    "plot.figure(figsize=(10, 8))\n",
    "\n",
    "# plot de heatmap\n",
    "seaborn.heatmap(whole_corr, annot=True, cmap='coolwarm')\n",
    "\n",
    "# laat de plot zien\n",
    "plot.show()\n"
   ]
  },
  {
   "cell_type": "markdown",
   "id": "34357325",
   "metadata": {},
   "source": [
    "### het opsplitsen en voorspellen met de data"
   ]
  },
  {
   "cell_type": "markdown",
   "id": "40768969",
   "metadata": {},
   "source": [
    "de splitsing van de data"
   ]
  },
  {
   "cell_type": "code",
   "execution_count": null,
   "id": "ae6834d8",
   "metadata": {},
   "outputs": [],
   "source": [
    "\n",
    "# alleen numerieke data gebruiken\n",
    "numeric_features = all_water_data.select_dtypes(include=[float, int]).columns\n",
    "all_water_data = all_water_data[numeric_features]\n",
    "\n",
    "\n",
    "# dataframe opsplitsen in features en target\n",
    "X_all = all_water_data.drop(['energy_proxy', 'air_temperature_01C'], axis=1)\n",
    "y_all = all_water_data['energy_proxy']\n",
    "\n",
    "# dataframe opsplitsen in train en test set\n",
    "X_train_all, X_test_all, y_train_all, y_test_all = train_test_split(X_all, y_all, test_size=0.2, random_state=42)\n",
    "X_all\n"
   ]
  },
  {
   "cell_type": "markdown",
   "id": "9fd54b86",
   "metadata": {},
   "source": [
    "het model en hyper parameters"
   ]
  },
  {
   "cell_type": "code",
   "execution_count": null,
   "id": "f9e84c16",
   "metadata": {},
   "outputs": [],
   "source": [
    "# de parameters voor de randomforest regressor\n",
    "param_grid = {\n",
    "    'n_estimators': [1000],\n",
    "    'max_depth': [None, 12],\n",
    "    'min_samples_split': [2, 5],\n",
    "    'min_samples_leaf': [9, 12]\n",
    "}\n",
    "\n",
    "# de randomForestRegressor\n",
    "random_forest_regressor = RandomForestRegressor(random_state=42)\n",
    "\n",
    "# grid search\n",
    "grid_search = GridSearchCV(estimator=random_forest_regressor, param_grid=param_grid, cv=5, n_jobs=-1, verbose=2)\n",
    "grid_search.fit(X_train_all, y_train_all)\n",
    "\n",
    "# pak beste estimator/ combinatie van parameters\n",
    "best_rf = grid_search.best_estimator_\n",
    "\n",
    "# voorspel met beste estimator\n",
    "y_pred_all = best_rf.predict(X_test_all)"
   ]
  },
  {
   "cell_type": "markdown",
   "id": "50a45f30",
   "metadata": {},
   "source": [
    "het opslaan en printen van de resultaten van het model"
   ]
  },
  {
   "cell_type": "code",
   "execution_count": null,
   "id": "0a6b8cc8",
   "metadata": {},
   "outputs": [],
   "source": [
    "mape = mean_absolute_percentage_error(y_test_all, y_pred_all)\n",
    "mae = mean_absolute_error(y_test_all, y_pred_all)\n",
    "r2 = r2_score(y_test_all, y_pred_all)\n",
    "\n",
    "# Print de scores\n",
    "print(f\"Best Parameters: {grid_search.best_params_}\")\n",
    "print(f\"Best mape: {mape * 100}\")\n",
    "print(f\"Mean Absolute Error: {mae}\")\n",
    "print(f\"R-squared: {r2}\")\n",
    "\n",
    "cv_scores = cross_val_score(best_rf, X_train_all, y_train_all, cv=5, scoring='neg_mean_absolute_error')\n",
    "print(f\"Cross-validate: {-cv_scores}\")"
   ]
  },
  {
   "cell_type": "markdown",
   "id": "d7da61c1",
   "metadata": {},
   "source": [
    "### visualizaties over de voorspellingen"
   ]
  },
  {
   "cell_type": "markdown",
   "id": "7c353ba4",
   "metadata": {},
   "source": [
    "scatterplot voorspelde waarden v echte waarden"
   ]
  },
  {
   "cell_type": "code",
   "execution_count": null,
   "id": "22c11f33",
   "metadata": {},
   "outputs": [],
   "source": [
    "# Scatter plot\n",
    "plot.scatter(y_pred_all, y_test_all, alpha=0.2)\n",
    "\n",
    "# diagonale lijn\n",
    "plot.plot([min(y_pred_all), max(y_pred_all)], [min(y_pred_all), max(y_pred_all)], color='red', alpha=0.5)\n",
    "\n",
    "# Labels en titel\n",
    "plot.title('Energy proxy voorspellingen van lineair regessie model v echte waarden')\n",
    "plot.xlim(2000000, 4000000)\n",
    "plot.ylim(2000000, 4000000)\n",
    "\n",
    "# laat de plot zien\n",
    "plot.show()"
   ]
  },
  {
   "cell_type": "markdown",
   "id": "a1b6d672",
   "metadata": {},
   "source": [
    "scatterplot van energyproxy, waarbij de blauwe punten de deuren zijn die open gaan, en de groene deuren de deuren die dicht gaan"
   ]
  },
  {
   "cell_type": "code",
   "execution_count": null,
   "id": "714f3ede",
   "metadata": {},
   "outputs": [],
   "source": [
    "results = pandas.DataFrame({'Actual': y_test_all, 'Predicted': y_pred_all})\n",
    "results = results.sort_index()\n",
    "\n",
    "plot.figure(figsize=(14, 7))\n",
    "plot.scatter(all_water_data.index[all_water_data.lock_movement == 1], all_water_data.energy_proxy[all_water_data.lock_movement == 1], label='lock opening', color='blue', alpha=0.5)\n",
    "plot.scatter(all_water_data.index[all_water_data.lock_movement == 0], all_water_data.energy_proxy[all_water_data.lock_movement == 0], label='lock closing', color='green', alpha=0.5)\n",
    "\n",
    "plot.xlabel('Index (Time)')\n",
    "plot.ylabel('Energy Proxy')\n",
    "plot.title('Energy Usage of the Lock (Opening vs Closing)')\n",
    "plot.legend()\n",
    "plot.show()"
   ]
  },
  {
   "cell_type": "markdown",
   "id": "4e93de63",
   "metadata": {},
   "source": [
    "feature importance"
   ]
  },
  {
   "cell_type": "code",
   "execution_count": null,
   "id": "f877fad7",
   "metadata": {},
   "outputs": [],
   "source": [
    "# feature importance van beste estimator\n",
    "feature_importances = best_rf.feature_importances_\n",
    "features = X_train_all.columns\n",
    "\n",
    "# het maken van een dataframe om de feature importance te plotten\n",
    "importance_df = pandas.DataFrame({\n",
    "    'Feature': features,\n",
    "    'Importance': feature_importances\n",
    "})\n",
    "\n",
    "# sorteren op importance\n",
    "importance_df = importance_df.sort_values(by='Importance', ascending=False)\n",
    "\n",
    "# Plot\n",
    "plot.figure(figsize=(10, 8))\n",
    "seaborn.barplot(x='Importance', y='Feature', data=importance_df)\n",
    "plot.title('Feature Importance')\n",
    "plot.show()"
   ]
  },
  {
   "cell_type": "code",
   "execution_count": null,
   "id": "b224b676",
   "metadata": {},
   "outputs": [],
   "source": [
    "results = pandas.DataFrame({'Actual': y_test_all, 'Predicted': y_pred_all})\n",
    "results = results.sort_index()\n",
    "\n",
    "plt.figure(figsize=(14, 7))\n",
    "plt.scatter(results.index, results['Actual'], label='Actual', color='blue')\n",
    "plt.scatter(results.index, results['Predicted'], label='Predicted', color='red', linestyle='--', alpha=0.4)\n",
    "plt.xlabel('Index (Time)')\n",
    "plt.ylabel('Energy Proxy')\n",
    "plt.title('Voorspelde waarden van linear regressie model & echte waarde')\n",
    "plt.legend()\n",
    "plt.show()\n"
   ]
  }
 ],
 "metadata": {
  "kernelspec": {
   "display_name": "Python 3 (ipykernel)",
   "language": "python",
   "name": "python3"
  },
  "language_info": {
   "codemirror_mode": {
    "name": "ipython",
    "version": 3
   },
   "file_extension": ".py",
   "mimetype": "text/x-python",
   "name": "python",
   "nbconvert_exporter": "python",
   "pygments_lexer": "ipython3",
   "version": "3.12.3"
  }
 },
 "nbformat": 4,
 "nbformat_minor": 5
}
