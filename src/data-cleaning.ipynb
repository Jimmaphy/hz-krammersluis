{
 "cells": [
  {
   "cell_type": "code",
   "execution_count": null,
   "metadata": {},
   "outputs": [],
   "source": [
    "import pandas\n",
    "import datetime\n",
    "import matplotlib.pyplot as pyplot"
   ]
  },
  {
   "cell_type": "markdown",
   "metadata": {},
   "source": [
    "# Data comparison with Rijkswaterstaat\n",
    "\n",
    "Earlier analysis in the data shows that problems occur in the temperature sensor after the replacement of the door parts. The measurements flatline where they are expected to fluctuate with weather. In this document, research will be done by comparing the data from rijkswaterstaat with the data in our dataset."
   ]
  },
  {
   "cell_type": "code",
   "execution_count": null,
   "metadata": {},
   "outputs": [],
   "source": [
    "received_data = pandas.read_csv('data.csv')\n",
    "rijkswaterstaat_data = pandas.read_csv('external.csv', delimiter=';')"
   ]
  },
  {
   "cell_type": "code",
   "execution_count": null,
   "metadata": {},
   "outputs": [],
   "source": [
    "received_data['datetime'] = pandas.to_datetime(received_data['datetime'])"
   ]
  },
  {
   "cell_type": "markdown",
   "metadata": {},
   "source": [
    "## Removing all other data\n",
    "\n",
    "For this experiment, the water_temperatur is the only measurement of interest. All the other data will be dropped for the sake of consitency. The water_temperature_C column will also be renamed for clearity. This leaves the following columns. Undercarriage replacement can still be relevant considering the issues arrise after replacement of the part. There are also some outliers in the original data which shall be removed."
   ]
  },
  {
   "cell_type": "code",
   "execution_count": null,
   "metadata": {},
   "outputs": [],
   "source": [
    "droppable_columns = ['file_name', 'lock_movement', 'water_level_cmNAP', 'air_temperature_01C', 'energy_proxy']\n",
    "renamable_columns = {'water_temperature_C': 'water_temperature'}\n",
    "\n",
    "filtered_data = pandas.DataFrame(received_data)\n",
    "filtered_data = filtered_data.drop(columns=droppable_columns)\n",
    "filtered_data = filtered_data.rename(columns=renamable_columns)\n",
    "filtered_data = filtered_data[filtered_data['water_temperature'] < 50]\n",
    "\n",
    "filtered_data"
   ]
  },
  {
   "cell_type": "markdown",
   "metadata": {},
   "source": [
    "The dataset received from rijkswaterstaat has a lot of columns describing the data. In order to get to a dataset useable for comparison, it is better to start with an empty data frame and add the columns needed, instead of removing everything not needed."
   ]
  },
  {
   "cell_type": "code",
   "execution_count": null,
   "metadata": {},
   "outputs": [],
   "source": [
    "rijkswaterstaat_data.head()\n",
    "\n",
    "comparable_data = pandas.DataFrame()\n",
    "comparable_data['date'] = rijkswaterstaat_data['WAARNEMINGDATUM']\n",
    "comparable_data['time'] = rijkswaterstaat_data['WAARNEMINGTIJD (MET/CET)']\n",
    "comparable_data['water_temperature'] = rijkswaterstaat_data['NUMERIEKEWAARDE']\n",
    "comparable_data = comparable_data[::2]\n",
    "\n",
    "comparable_data['date'] = pandas.to_datetime(comparable_data['date'], format=\"%d-%m-%Y\").dt.date\n",
    "comparable_data['time'] = pandas.to_datetime(comparable_data['time'], format=\"%H:%M:%S\").dt.time\n",
    "\n",
    "comparable_data"
   ]
  },
  {
   "cell_type": "markdown",
   "metadata": {},
   "source": [
    "## Checking the problem\n",
    "\n",
    "Before continueing, it is usefull to determine the actual problem we're trying to solve. The issue is some flatlining in watertemperature after the undercarriage got replaced. This can be seen in the graph below."
   ]
  },
  {
   "cell_type": "code",
   "execution_count": null,
   "metadata": {},
   "outputs": [],
   "source": [
    "filtered_data.plot.scatter('datetime', 'water_temperature')\n"
   ]
  },
  {
   "cell_type": "markdown",
   "metadata": {},
   "source": [
    "This difference becomes more obvious when we display the data for only after the undercarriage replacement. The sensor seems to working fine at first, after which something happens to flatline the sensor."
   ]
  },
  {
   "cell_type": "code",
   "execution_count": null,
   "metadata": {},
   "outputs": [],
   "source": [
    "after_replacement = filtered_data[filtered_data['undercarriage_replacement'] == 1]\n",
    "after_replacement.plot.scatter('datetime', 'water_temperature')"
   ]
  },
  {
   "cell_type": "markdown",
   "metadata": {},
   "source": [
    "Since the drop in temperature goes to below 8 in the dataset, it is easy to determine the first moment the readings start to fail. In order to get all the values with a problem, all temperatures below 12 will be added to a new data frame. This way, we determine the first error to be at **2023-04-05**."
   ]
  },
  {
   "cell_type": "code",
   "execution_count": null,
   "metadata": {},
   "outputs": [],
   "source": [
    "problematic_data = after_replacement[after_replacement['water_temperature'] < 10]\n",
    "problematic_data.head()"
   ]
  },
  {
   "cell_type": "markdown",
   "metadata": {},
   "source": [
    "## Comparing with Rijkswaterstaat\n",
    "\n",
    "Now it's time to put the claims to the test and start looking for inside the data of rijkswaterstaat whether this can aid our research. This is done by taking the date *2023-04-05* and filtering on that."
   ]
  },
  {
   "cell_type": "code",
   "execution_count": null,
   "metadata": {},
   "outputs": [],
   "source": [
    "ranged_data = pandas.DataFrame(comparable_data)\n",
    "ranged_data['date'] = pandas.to_datetime(ranged_data['date'], format=\"%d-%m-%Y\")\n",
    "ranged_data['time'] = pandas.to_datetime(ranged_data['time'], format=\"%H:%M:%S\")\n",
    "ranged_data['time'] = ranged_data['time'].dt.time\n",
    "\n",
    "ranged_data = ranged_data[ranged_data['date'] >= '05-04-2023']\n",
    "ranged_data[ranged_data['time'] > datetime.time(10, 00, 00)]"
   ]
  },
  {
   "cell_type": "markdown",
   "metadata": {},
   "source": [
    "## Making sure it fits\n",
    "\n",
    "The data might be usable from a quality point of view, replacing the problematic values in the original data with good ones, however; there are some potential issues. We need to make sure that the data froms Rijkswaterstaat actually matches the data we have. If they differ too much, we might cause an unbalance in the results. The way to do this, is to compare two point of the sets we know are correct with each other."
   ]
  },
  {
   "cell_type": "code",
   "execution_count": null,
   "metadata": {},
   "outputs": [],
   "source": [
    "after_replacement.head()"
   ]
  },
  {
   "cell_type": "code",
   "execution_count": null,
   "metadata": {},
   "outputs": [],
   "source": [
    "check_data = pandas.DataFrame(comparable_data)\n",
    "check_data['date'] = pandas.to_datetime(check_data['date'], format=\"%d-%m-%Y\")\n",
    "check_data['time'] = pandas.to_datetime(check_data['time'], format=\"%H:%M:%S\")\n",
    "check_data['time'] = check_data['time'].dt.time\n",
    "\n",
    "check_data = check_data[check_data['date'] >= '13-05-2022']\n",
    "check_data[check_data['time'] > datetime.time(8, 30, 00)]"
   ]
  },
  {
   "cell_type": "markdown",
   "metadata": {},
   "source": [
    "From this one instance, it can be determined that data is quite similar, precise enough for the replacement. This is how the issue with the data will be fought."
   ]
  },
  {
   "cell_type": "markdown",
   "metadata": {},
   "source": [
    "## Replacing the values\n",
    "\n",
    "The last step in the research for this subject is to actually replace the incorrect values and to determine whether the problem is fixed. The only issue faced during this step is the fact that the original measurements times don't match the ones in the dataset. The plan is to round these times down during interpolation, since the difference of maximum 10 minutes won't effect the results too much."
   ]
  },
  {
   "cell_type": "code",
   "execution_count": null,
   "metadata": {},
   "outputs": [],
   "source": [
    "dated_problematic_data = pandas.DataFrame(problematic_data)\n",
    "dated_problematic_data['datetime'] = pandas.to_datetime(dated_problematic_data['datetime'], format=\"%Y-%m-%d %H:%M:%S\")\n",
    "\n",
    "dated_problematic_data['date'] = dated_problematic_data['datetime'].dt.date\n",
    "dated_problematic_data['floored_time'] = (dated_problematic_data['datetime'].dt.floor('10min')).dt.time\n",
    "\n",
    "dated_problematic_data.head()"
   ]
  },
  {
   "cell_type": "markdown",
   "metadata": {},
   "source": [
    "Now that a column is available containing the floored time, and one containing the date, the data can be matched. Trail and error baby let's go."
   ]
  },
  {
   "cell_type": "code",
   "execution_count": null,
   "metadata": {},
   "outputs": [],
   "source": [
    "merged_problematic_data = pandas.merge(dated_problematic_data, comparable_data, \n",
    "                                       left_on=['date', 'floored_time'], \n",
    "                                       right_on=['date', 'time'], \n",
    "                                       suffixes=('', '_y'))\n",
    "\n",
    "merged_problematic_data['water_temperature'] = merged_problematic_data['water_temperature_y']\n",
    "merged_problematic_data = merged_problematic_data.drop(columns=['floored_time', 'time', 'water_temperature_y', 'date'])\n",
    "merged_problematic_data['water_temperature'] = merged_problematic_data['water_temperature'].str.replace(',', '.')\n",
    "merged_problematic_data['water_temperature'] = merged_problematic_data['water_temperature'].astype(float)\n",
    "merged_problematic_data.head()"
   ]
  },
  {
   "cell_type": "markdown",
   "metadata": {},
   "source": []
  },
  {
   "cell_type": "code",
   "execution_count": null,
   "metadata": {},
   "outputs": [],
   "source": [
    "cleaned_data = pandas.merge(received_data, merged_problematic_data,\n",
    "                            left_on=['datetime'],\n",
    "                            right_on=['datetime'],\n",
    "                            suffixes=('', '_y'),\n",
    "                            how='left')\n",
    "\n",
    "cleaned_data['water_temperature_C'] = cleaned_data['water_temperature'].where(cleaned_data['water_temperature'].notnull(), cleaned_data['water_temperature_C'])\n",
    "cleaned_data = cleaned_data.drop(columns=['undercarriage_replacement_y', 'water_temperature'])\n",
    "cleaned_data"
   ]
  },
  {
   "cell_type": "code",
   "execution_count": null,
   "metadata": {},
   "outputs": [],
   "source": [
    "cleaned_data = cleaned_data[cleaned_data['water_temperature_C'] < 50]\n",
    "cleaned_data.plot.scatter('datetime', 'water_temperature_C')"
   ]
  },
  {
   "cell_type": "code",
   "execution_count": null,
   "metadata": {},
   "outputs": [],
   "source": [
    "index_verandering = cleaned_data[cleaned_data['undercarriage_replacement'] == 1].index[0]\n",
    "cleaned_data['air_temperature_01C'] = cleaned_data['air_temperature_01C'] / 10\n",
    "\n",
    "# Getting the date when the undercarriage was first replaced\n",
    "datum_verandering = cleaned_data.loc[index_verandering, 'datetime']\n",
    "\n",
    "# Setting the figure size\n",
    "pyplot.figure(figsize=(12, 6))\n",
    "\n",
    "# Plotting air temperature in blue\n",
    "pyplot.scatter(cleaned_data.datetime, cleaned_data.air_temperature_01C, color='black', s=5, alpha=0.2, label='Lucht temperatuur')\n",
    "\n",
    "# Plotting water temperature in green\n",
    "pyplot.scatter(cleaned_data.datetime, cleaned_data.water_temperature_C, color='blue', s=5, alpha=0.2, label='Water temperatuur')\n",
    "\n",
    "# Setting the title and labels\n",
    "pyplot.title('Lucht- en watertemperatuur')\n",
    "pyplot.xlabel('Datum')\n",
    "pyplot.ylabel('Temperatuur (°C)')\n",
    "\n",
    "# Rotating the x-axis labels for better readability\n",
    "pyplot.xticks(rotation=45)\n",
    "\n",
    "# Adding a grid\n",
    "pyplot.grid(True)\n",
    "\n",
    "# Adding a red vertical line to indicate the date of undercarriage replacement\n",
    "pyplot.axvline(x=datum_verandering, color='red', label='Onderstel vervangen')\n",
    "\n",
    "# Adding a legend\n",
    "pyplot.legend()\n",
    "\n",
    "# Displaying the plot\n",
    "pyplot.show()"
   ]
  },
  {
   "cell_type": "markdown",
   "metadata": {},
   "source": [
    "## Removing outliers\n",
    "\n",
    "The next step is to remove the outliers in energy proxy"
   ]
  },
  {
   "cell_type": "code",
   "execution_count": null,
   "metadata": {
    "tags": []
   },
   "outputs": [],
   "source": [
    "cleaned_data.describe()"
   ]
  },
  {
   "cell_type": "markdown",
   "metadata": {},
   "source": [
    "<br>\n",
    "first, we split the data in before and after the undercarriage replacement"
   ]
  },
  {
   "cell_type": "code",
   "execution_count": null,
   "metadata": {
    "tags": []
   },
   "outputs": [],
   "source": [
    "cleaned_before_replacement = cleaned_data[cleaned_data.undercarriage_replacement ==  0]\n",
    "cleaned_after_replacement = cleaned_data[cleaned_data.undercarriage_replacement ==  1]"
   ]
  },
  {
   "cell_type": "code",
   "execution_count": null,
   "metadata": {
    "tags": []
   },
   "outputs": [],
   "source": [
    "cleaned_before_replacement"
   ]
  },
  {
   "cell_type": "code",
   "execution_count": null,
   "metadata": {
    "tags": []
   },
   "outputs": [],
   "source": [
    "cleaned_after_replacement"
   ]
  },
  {
   "cell_type": "markdown",
   "metadata": {},
   "source": [
    "next, we use the std and mean to remove the outliers <br>\n",
    "here, std * 1.5 is used to differentiate between outliers and normal values. all values outside of the std * 1.5 + mean and std * 1.5 - mean, can be considered as outliers  "
   ]
  },
  {
   "cell_type": "code",
   "execution_count": null,
   "metadata": {
    "tags": []
   },
   "outputs": [],
   "source": [
    "outlier_threshold_before = 424007.2 * 1.5\n",
    "mean_before = 3341879\n",
    "cleaned_data_before = cleaned_before_replacement[(cleaned_before_replacement['energy_proxy'] <= mean_before +outlier_threshold_before) & (cleaned_before_replacement['energy_proxy'] >= mean_before - outlier_threshold_before)]"
   ]
  },
  {
   "cell_type": "code",
   "execution_count": null,
   "metadata": {
    "tags": []
   },
   "outputs": [],
   "source": [
    "cleaned_data_before"
   ]
  },
  {
   "cell_type": "code",
   "execution_count": null,
   "metadata": {
    "tags": []
   },
   "outputs": [],
   "source": [
    "outlier_threshold_after = 255254.2 * 1.5\n",
    "mean_after = 2595676\n",
    "cleaned_data_after = cleaned_after_replacement[(cleaned_after_replacement['energy_proxy'] <= mean_after + outlier_threshold_after) & (cleaned_after_replacement['energy_proxy'] >= mean_after - outlier_threshold_after)]"
   ]
  },
  {
   "cell_type": "code",
   "execution_count": null,
   "metadata": {
    "tags": []
   },
   "outputs": [],
   "source": [
    "cleaned_data_after"
   ]
  },
  {
   "cell_type": "code",
   "execution_count": null,
   "metadata": {
    "tags": []
   },
   "outputs": [],
   "source": [
    "before_corr = cleaned_data_before.select_dtypes(include=['float64', 'int64']).corr()\n",
    "after_corr = cleaned_data_after.select_dtypes(include=['float64', 'int64']).corr()\n",
    "total_corr = cleaned_data.select_dtypes(include=['float64', 'int64']).corr()"
   ]
  },
  {
   "cell_type": "code",
   "execution_count": null,
   "metadata": {
    "tags": []
   },
   "outputs": [],
   "source": [
    "import seaborn\n",
    "\n",
    "pyplot.figure(figsize=(10, 8))  # Adjust width and height as needed\n",
    "\n",
    "# Plot the heatmap\n",
    "seaborn.heatmap(after_corr, annot=True, cmap='coolwarm')\n",
    "\n",
    "# Show the plot\n",
    "pyplot.show()"
   ]
  },
  {
   "cell_type": "code",
   "execution_count": null,
   "metadata": {},
   "outputs": [],
   "source": [
    "cleaned_data_before.to_csv('cleaned_before.csv', index=False)"
   ]
  },
  {
   "cell_type": "code",
   "execution_count": null,
   "metadata": {
    "tags": []
   },
   "outputs": [],
   "source": [
    "cleaned_data_after.to_csv('cleaned_after.csv', index=False)"
   ]
  },
  {
   "cell_type": "code",
   "execution_count": null,
   "metadata": {
    "tags": []
   },
   "outputs": [],
   "source": [
    "cleaned_data.to_csv('restored.csv', index=False)"
   ]
  },
  {
   "cell_type": "code",
   "execution_count": null,
   "metadata": {},
   "outputs": [],
   "source": []
  }
 ],
 "metadata": {
  "kernelspec": {
   "display_name": "Python 3 (ipykernel)",
   "language": "python",
   "name": "python3"
  },
  "language_info": {
   "codemirror_mode": {
    "name": "ipython",
    "version": 3
   },
   "file_extension": ".py",
   "mimetype": "text/x-python",
   "name": "python",
   "nbconvert_exporter": "python",
   "pygments_lexer": "ipython3",
   "version": "3.11.5"
  }
 },
 "nbformat": 4,
 "nbformat_minor": 4
}
