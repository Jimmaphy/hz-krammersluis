{
 "cells": [
  {
   "cell_type": "markdown",
   "id": "da6b5210-a231-4ea8-8562-3b171f9f2d4b",
   "metadata": {},
   "source": [
    "# before replacement"
   ]
  },
  {
   "cell_type": "code",
   "execution_count": null,
   "id": "4b3ac54c",
   "metadata": {},
   "outputs": [],
   "source": [
    "import pandas\n",
    "import matplotlib.pyplot as plot\n",
    "import numpy as np\n",
    "from sklearn.tree import DecisionTreeRegressor\n",
    "from sklearn.linear_model import LinearRegression\n",
    "from sklearn.preprocessing import PolynomialFeatures\n",
    "from sklearn.metrics import mean_squared_error, mean_absolute_error, r2_score, mean_absolute_percentage_error\n",
    "from sklearn.ensemble import RandomForestRegressor\n",
    "from sklearn.model_selection import GridSearchCV, cross_val_score\n",
    "from sklearn.model_selection import train_test_split"
   ]
  },
  {
   "cell_type": "code",
   "execution_count": null,
   "id": "dcdf0cb2-930d-4238-950a-26e902a2fbe5",
   "metadata": {},
   "outputs": [],
   "source": [
    "before_water_data = pandas.read_csv('../data/cleaned_before.csv')\n",
    "\n",
    "# datetime object maken van datetime\n",
    "before_water_data['datetime'] = pandas.to_datetime(before_water_data['datetime'])\n",
    "\n",
    "# verwijderen van undercarriage_replacement, aangezien die gelijk is voor de hele dataset\n",
    "before_water_data = before_water_data.drop('undercarriage_replacement', axis=1)"
   ]
  },
  {
   "cell_type": "code",
   "execution_count": null,
   "id": "63f156ef",
   "metadata": {},
   "outputs": [],
   "source": [
    "def create_lag_features(df, feature, lag, step_size):\n",
    "    for i in range(1, lag + 1):\n",
    "        if (i - 1) % step_size == 0:\n",
    "            df[f'{feature}_lag_{i}'] = df[feature].shift(i)\n",
    "    df = df.dropna()  # wegja halen van de NaN waardes door het shiften van de data\n",
    "    return df"
   ]
  },
  {
   "cell_type": "code",
   "execution_count": null,
   "id": "cf60560a",
   "metadata": {},
   "outputs": [],
   "source": [
    "before_water_data = create_lag_features(before_water_data, 'water_level_cmNAP', 6, 2)\n",
    "# before_water_data = create_lag_features(before_water_data, 'air_temperature_01C', 3, 1)\n",
    "before_water_data"
   ]
  },
  {
   "cell_type": "code",
   "execution_count": null,
   "id": "1495b776",
   "metadata": {},
   "outputs": [],
   "source": [
    "# vervangt lock movement met boolean, zodat het gebruikt wordt door ons model\n",
    "before_water_data.lock_movement = before_water_data['lock_movement'].replace('closing', 0)\n",
    "before_water_data.lock_movement = before_water_data['lock_movement'].replace('opening', 1)\n",
    "\n",
    "# eerste datum\n",
    "min_date = before_water_data['datetime'].iloc[0]\n",
    "\n",
    "# aantal dagen sinds die dag\n",
    "before_water_data['days_since_first_measurement'] = (before_water_data['datetime'] - min_date).dt.days"
   ]
  },
  {
   "cell_type": "code",
   "execution_count": null,
   "id": "d033c155",
   "metadata": {},
   "outputs": [],
   "source": [
    "# functie om datetime object om te zetten naar variabelen\n",
    "# tijdens het testen bleek dit niet niet voor verbetering te zorgen\n",
    "def addDates(df):\n",
    "  # df['day'] = df.datetime.dt.day\n",
    "  # df['month'] = df.datetime.dt.month\n",
    "  # df['year'] = df.datetime.dt.year\n",
    "  # df['hour'] = df.datetime.dt.hour\n",
    "  # df['minute'] = df.datetime.dt.minute\n",
    "  return df\n",
    "\n",
    "before_water_data = addDates(before_water_data)\n"
   ]
  },
  {
   "cell_type": "code",
   "execution_count": null,
   "id": "e2240845",
   "metadata": {},
   "outputs": [],
   "source": [
    "# de correlatie van onze numerieke data\n",
    "whole_corr = before_water_data.select_dtypes(include=['float64', 'int64', 'int32']).corr()"
   ]
  },
  {
   "cell_type": "code",
   "execution_count": null,
   "id": "09b5e0af",
   "metadata": {},
   "outputs": [],
   "source": [
    "import seaborn\n",
    "\n",
    "plot.figure(figsize=(10, 8))\n",
    "\n",
    "# plot de heatmap\n",
    "seaborn.heatmap(whole_corr, annot=True, cmap='coolwarm')\n",
    "\n",
    "# laat de plot zien\n",
    "plot.show()"
   ]
  },
  {
   "cell_type": "code",
   "execution_count": null,
   "id": "459e453c",
   "metadata": {},
   "outputs": [],
   "source": [
    "# alleen numerieke data gebruiken\n",
    "numeric_features = before_water_data.select_dtypes(include=[float, int]).columns\n",
    "before_water_data = before_water_data[numeric_features]\n",
    "\n",
    "\n",
    "# dataframe opsplitsen in features en target\n",
    "X = before_water_data.drop(['energy_proxy', 'air_temperature_01C'], axis=1)\n",
    "y = before_water_data['energy_proxy']\n",
    "\n",
    "# dataframe opsplitsen in train en test set\n",
    "X_train, X_test, y_train, y_test = train_test_split(X, y, test_size=0.2, random_state=42)\n",
    "X\n"
   ]
  },
  {
   "cell_type": "code",
   "execution_count": null,
   "id": "3946b0a1",
   "metadata": {},
   "outputs": [],
   "source": [
    "# de parameters voor de randomforest regressor\n",
    "param_grid = {\n",
    "    'n_estimators': [600],\n",
    "    'max_depth': [10, 12],\n",
    "    'min_samples_split': [2, 4],\n",
    "    'min_samples_leaf': [4, 6]\n",
    "}\n",
    "\n",
    "# de randomForestRegressor\n",
    "random_forest_regressor = RandomForestRegressor(random_state=42)\n",
    "\n",
    "# grid search\n",
    "grid_search = GridSearchCV(estimator=random_forest_regressor, param_grid=param_grid, cv=5, n_jobs=-1, verbose=2)\n",
    "grid_search.fit(X_train, y_train)\n",
    "\n",
    "# pak beste estimator/ combinatie van parameters\n",
    "best_rf = grid_search.best_estimator_\n",
    "\n",
    "# voorspel met beste estimator\n",
    "y_pred = best_rf.predict(X_test)\n",
    "\n",
    "# bereken de scores\n",
    "mae = mean_absolute_error(y_test, y_pred)\n",
    "r2 = r2_score(y_test, y_pred)\n",
    "\n",
    "# Print de scores\n",
    "print(f\"Best Parameters: {grid_search.best_params_}\")\n",
    "print(f\"Mean Absolute Error: {mae}\")\n",
    "print(f\"R-squared: {r2}\")\n",
    "\n",
    "cv_scores = cross_val_score(best_rf, X_train, y_train, cv=5, scoring='neg_mean_absolute_error')\n",
    "print(f\"Cross-validate: {-cv_scores}\")\n"
   ]
  },
  {
   "cell_type": "code",
   "execution_count": null,
   "id": "bb3acb0d",
   "metadata": {},
   "outputs": [],
   "source": [
    "from sklearn.tree import plot_tree\n",
    "import matplotlib.pyplot as plt\n",
    "\n",
    "# werkt alleen als de kolommen een list zijn\n",
    "feature_names = X_train.columns.tolist()  # Assuming X_train is a DataFrame\n",
    "\n",
    "# Visualize the tree with a limited depth and adjusted spacing and text size\n",
    "plt.figure(figsize=(20, 10))\n",
    "plot_tree(best_rf.estimators_[0], feature_names=feature_names, filled=True, rounded=True, max_depth=3, proportion=True, fontsize=7)\n",
    "plt.show()"
   ]
  },
  {
   "cell_type": "code",
   "execution_count": null,
   "id": "b8fc6808",
   "metadata": {},
   "outputs": [],
   "source": [
    "# Scatter plot\n",
    "plot.scatter(y_pred, y_test, alpha=0.4)\n",
    "\n",
    "# diagonale lijn\n",
    "plot.plot([min(y_pred), max(y_pred)], [min(y_pred), max(y_pred)], color='red', alpha=0.5)\n",
    "\n",
    "# Labels en titel\n",
    "plot.xlabel('Predicted values')\n",
    "plot.ylabel('Actual values')\n",
    "plot.title('Scatter plot of Predicted vs Actual values')\n",
    "\n",
    "# laat de plot zien\n",
    "plot.show()"
   ]
  },
  {
   "cell_type": "code",
   "execution_count": null,
   "id": "2a8494b8",
   "metadata": {},
   "outputs": [],
   "source": [
    "# feature importance van beste estimator\n",
    "feature_importances = best_rf.feature_importances_\n",
    "features = X_train.columns\n",
    "\n",
    "# het maken van een dataframe om de feature importance te plotten\n",
    "importance_df = pandas.DataFrame({\n",
    "    'Feature': features,\n",
    "    'Importance': feature_importances\n",
    "})\n",
    "\n",
    "# sorteren op importance\n",
    "importance_df = importance_df.sort_values(by='Importance', ascending=False)\n",
    "\n",
    "# Plot\n",
    "plot.figure(figsize=(10, 8))\n",
    "seaborn.barplot(x='Importance', y='Feature', data=importance_df)\n",
    "plot.title('Feature Importance')\n",
    "plot.show()\n"
   ]
  },
  {
   "cell_type": "markdown",
   "id": "41517fd4",
   "metadata": {},
   "source": [
    "# after replacement"
   ]
  },
  {
   "cell_type": "code",
   "execution_count": null,
   "id": "43a09123",
   "metadata": {},
   "outputs": [],
   "source": [
    "import pandas\n",
    "import matplotlib.pyplot as plot\n",
    "from sklearn.model_selection import train_test_split\n",
    "from sklearn.metrics import mean_squared_error, mean_absolute_error, r2_score\n",
    "from sklearn.ensemble import RandomForestRegressor\n",
    "from sklearn.model_selection import GridSearchCV, cross_val_score\n"
   ]
  },
  {
   "cell_type": "code",
   "execution_count": null,
   "id": "78a0600c",
   "metadata": {},
   "outputs": [],
   "source": [
    "after_water_data = pandas.read_csv('../data/cleaned_after.csv')\n",
    "\n",
    "# datetime object maken van datetime\n",
    "after_water_data['datetime'] = pandas.to_datetime(after_water_data['datetime'])\n",
    "\n",
    "# verwijderen van undercarriage_replacement, aangezien die gelijk is voor de hele dataset\n",
    "after_water_data = after_water_data.drop('undercarriage_replacement', axis=1)\n"
   ]
  },
  {
   "cell_type": "code",
   "execution_count": null,
   "id": "c001fedb",
   "metadata": {},
   "outputs": [],
   "source": [
    "def create_lag_features(df, feature, lag, step_size):\n",
    "    for i in range(1, lag + 1):\n",
    "        if (i - 1) % step_size == 0:\n",
    "            df[f'{feature}_lag_{i}'] = df[feature].shift(i)\n",
    "    df = df.dropna()  # wegja halen van de NaN waardes door het shiften van de data\n",
    "    return df\n"
   ]
  },
  {
   "cell_type": "code",
   "execution_count": null,
   "id": "1021e0fb",
   "metadata": {},
   "outputs": [],
   "source": [
    "after_water_data = create_lag_features(after_water_data, 'water_level_cmNAP', 6, 2)\n",
    "after_water_data\n"
   ]
  },
  {
   "cell_type": "code",
   "execution_count": null,
   "id": "19a0c37e",
   "metadata": {},
   "outputs": [],
   "source": [
    "# vervangt lock movement met boolean, zodat het gebruikt wordt door ons model\n",
    "after_water_data.lock_movement = after_water_data['lock_movement'].replace('closing', 0)\n",
    "after_water_data.lock_movement = after_water_data['lock_movement'].replace('opening', 1)\n",
    "\n",
    "# eerste datum\n",
    "min_date = after_water_data['datetime'].iloc[0]\n",
    "\n",
    "# aantal dagen sinds die dag\n",
    "after_water_data['days_since_first_measurement'] = (after_water_data['datetime'] - min_date).dt.days\n",
    "after_water_data\n"
   ]
  },
  {
   "cell_type": "code",
   "execution_count": null,
   "id": "5aca7977",
   "metadata": {},
   "outputs": [],
   "source": [
    "# functie om datetime object om te zetten naar variabelen\n",
    "# tijdens het testen bleek dit niet niet voor verbetering te zorgen\n",
    "def addDates(df):\n",
    "  # df['day'] = df.datetime.dt.day\n",
    "  # df['month'] = df.datetime.dt.month\n",
    "  # df['year'] = df.datetime.dt.year\n",
    "  # df['hour'] = df.datetime.dt.hour\n",
    "  # df['minute'] = df.datetime.dt.minute\n",
    "  return df\n"
   ]
  },
  {
   "cell_type": "code",
   "execution_count": null,
   "id": "ce58085a",
   "metadata": {},
   "outputs": [],
   "source": [
    "\n",
    "after_water_data = addDates(after_water_data)"
   ]
  },
  {
   "cell_type": "code",
   "execution_count": null,
   "id": "28c97fd2",
   "metadata": {},
   "outputs": [],
   "source": [
    "\n",
    "# de correlatie van onze numerieke data\n",
    "whole_corr = after_water_data.select_dtypes(include=['float64', 'int64', 'int32']).corr()\n"
   ]
  },
  {
   "cell_type": "code",
   "execution_count": null,
   "id": "affa8ca1",
   "metadata": {},
   "outputs": [],
   "source": [
    "import seaborn\n",
    "\n",
    "plot.figure(figsize=(10, 8))\n",
    "\n",
    "# plot de heatmap\n",
    "seaborn.heatmap(whole_corr, annot=True, cmap='coolwarm')\n",
    "\n",
    "# laat de plot zien\n",
    "plot.show()"
   ]
  },
  {
   "cell_type": "code",
   "execution_count": null,
   "id": "47f12525",
   "metadata": {},
   "outputs": [],
   "source": [
    "# alleen numerieke data gebruiken\n",
    "numeric_features = after_water_data.select_dtypes(include=[float, int]).columns\n",
    "after_water_data = after_water_data[numeric_features]\n",
    "\n",
    "\n",
    "# dataframe opsplitsen in features en target\n",
    "X = after_water_data.drop(['energy_proxy'], axis=1)\n",
    "y = after_water_data['energy_proxy']\n",
    "\n",
    "# dataframe opsplitsen in train en test set\n",
    "X_train, X_test, y_train, y_test = train_test_split(X, y, test_size=0.2, random_state=42)\n",
    "X\n"
   ]
  },
  {
   "cell_type": "code",
   "execution_count": null,
   "id": "db596d82",
   "metadata": {},
   "outputs": [],
   "source": [
    "\n",
    "# de parameters voor de randomforest regressor\n",
    "param_grid = {\n",
    "    'n_estimators': [600],\n",
    "    'max_depth': [12],\n",
    "    'min_samples_split': [2, 4],\n",
    "    'min_samples_leaf': [4, 6]\n",
    "}\n",
    "\n",
    "# de randomForestRegressor\n",
    "random_forest_regressor = RandomForestRegressor(random_state=42)\n",
    "\n",
    "# grid search\n",
    "grid_search = GridSearchCV(estimator=random_forest_regressor, param_grid=param_grid, cv=5, n_jobs=-1, verbose=2)\n",
    "grid_search.fit(X_train, y_train)\n",
    "\n",
    "# pak beste estimator/ combinatie van parameters\n",
    "best_rf = grid_search.best_estimator_\n",
    "\n",
    "# voorspel met beste estimator\n",
    "y_pred = best_rf.predict(X_test)\n",
    "\n",
    "# bereken de scores\n",
    "mae = mean_absolute_error(y_test, y_pred)\n",
    "r2 = r2_score(y_test, y_pred)\n",
    "\n",
    "# Print de scores\n",
    "print(f\"Best Parameters: {grid_search.best_params_}\")\n",
    "print(f\"Mean Absolute Error: {mae}\")\n",
    "print(f\"R-squared: {r2}\")\n",
    "\n",
    "cv_scores = cross_val_score(best_rf, X_train, y_train, cv=5, scoring='neg_mean_absolute_error')\n",
    "print(f\"Cross-validate: {-cv_scores}\")\n",
    "\n"
   ]
  },
  {
   "cell_type": "code",
   "execution_count": null,
   "id": "2f81dd52",
   "metadata": {},
   "outputs": [],
   "source": [
    "results = pandas.DataFrame({'Actual': y_test, 'Predicted': y_pred})\n",
    "results = results.sort_index()\n",
    "\n",
    "plt.figure(figsize=(14, 7))\n",
    "plt.scatter(results.index, results['Actual'], label='Actual', color='blue')\n",
    "plt.scatter(results.index, results['Predicted'], label='Predicted', color='red', linestyle='--', alpha=0.4)\n",
    "plt.xlabel('Index (Time)')\n",
    "plt.ylabel('Energy Proxy')\n",
    "plt.title('Actual vs Predicted Values over Time')\n",
    "plt.legend()\n",
    "plt.show()"
   ]
  },
  {
   "cell_type": "code",
   "execution_count": null,
   "id": "5493c514",
   "metadata": {},
   "outputs": [],
   "source": [
    "from sklearn.tree import plot_tree\n",
    "import matplotlib.pyplot as plt\n",
    "\n",
    "# werkt alleen als de kolommen een list zijn\n",
    "feature_names = X_train.columns.tolist()  # Assuming X_train is a DataFrame\n",
    "\n",
    "# Visualize the tree with a limited depth and adjusted spacing and text size\n",
    "plt.figure(figsize=(20, 10))\n",
    "plot_tree(best_rf.estimators_[0], feature_names=feature_names, filled=True, rounded=True, max_depth=3, proportion=True, fontsize=7)\n",
    "plt.show()\n"
   ]
  },
  {
   "cell_type": "code",
   "execution_count": null,
   "id": "2b4fca0d",
   "metadata": {},
   "outputs": [],
   "source": [
    "# Scatter plot\n",
    "plot.scatter(y_pred, y_test, alpha=0.3)\n",
    "\n",
    "# diagonale lijn\n",
    "plot.plot([min(y_pred), max(y_pred)], [min(y_pred), max(y_pred)], color='red', alpha=0.5)\n",
    "\n",
    "# Labels en titel\n",
    "plot.xlabel('Predicted values')\n",
    "plot.ylabel('Actual values')\n",
    "plot.title('Energy proxy predictions of RandomForest regression vs actual values')\n",
    "\n",
    "# laat de plot zien\n",
    "plot.show()\n"
   ]
  },
  {
   "cell_type": "code",
   "execution_count": null,
   "id": "5fab6536",
   "metadata": {},
   "outputs": [],
   "source": [
    "# feature importance van beste estimator\n",
    "feature_importances = best_rf.feature_importances_\n",
    "features = X_train.columns\n",
    "\n",
    "# het maken van een dataframe om de feature importance te plotten\n",
    "importance_df = pandas.DataFrame({\n",
    "    'Feature': features,\n",
    "    'Importance': feature_importances\n",
    "})\n",
    "\n",
    "# sorteren op importance\n",
    "importance_df = importance_df.sort_values(by='Importance', ascending=False)\n",
    "\n",
    "# Plot\n",
    "plot.figure(figsize=(10, 8))\n",
    "seaborn.barplot(x='Importance', y='Feature', data=importance_df)\n",
    "plot.title('Feature Importance')\n",
    "plot.show()"
   ]
  },
  {
   "cell_type": "markdown",
   "id": "29562ed8",
   "metadata": {},
   "source": [
    "# all data"
   ]
  },
  {
   "cell_type": "code",
   "execution_count": null,
   "id": "082d6d33",
   "metadata": {},
   "outputs": [],
   "source": [
    "import pandas\n",
    "import matplotlib.pyplot as plot\n",
    "from sklearn.model_selection import train_test_split\n",
    "from sklearn.metrics import mean_squared_error, mean_absolute_error, r2_score\n",
    "from sklearn.ensemble import RandomForestRegressor\n",
    "from sklearn.model_selection import GridSearchCV, cross_val_score\n"
   ]
  },
  {
   "cell_type": "code",
   "execution_count": null,
   "id": "c0375c8b",
   "metadata": {},
   "outputs": [],
   "source": [
    "all_water_data = pandas.read_csv('../data/cleaned_after.csv')\n",
    "\n",
    "# datetime object maken van datetime\n",
    "all_water_data['datetime'] = pandas.to_datetime(all_water_data['datetime'])\n",
    "all_water_data.info()\n"
   ]
  },
  {
   "cell_type": "code",
   "execution_count": null,
   "id": "8ba81176",
   "metadata": {},
   "outputs": [],
   "source": [
    "\n",
    "def create_lag_features(df, feature, lag, step_size):\n",
    "    for i in range(1, lag + 1):\n",
    "        if (i - 1) % step_size == 0:\n",
    "            df[f'{feature}_lag_{i}'] = df[feature].shift(i)\n",
    "    df = df.dropna()  # wegja halen van de NaN waardes door het shiften van de data\n",
    "    return df\n"
   ]
  },
  {
   "cell_type": "code",
   "execution_count": null,
   "id": "9d986f75",
   "metadata": {},
   "outputs": [],
   "source": [
    "\n",
    "all_water_data = create_lag_features(all_water_data, 'water_level_cmNAP', 6, 2)\n",
    "# # all_water_data = create_lag_features(all_water_data, 'water_temperature_C', 1, 3)\n",
    "# all_water_data[0:20]\n"
   ]
  },
  {
   "cell_type": "code",
   "execution_count": null,
   "id": "6ab37a3f",
   "metadata": {},
   "outputs": [],
   "source": [
    "\n",
    "# vervangt lock movement met boolean, zodat het gebruikt wordt door ons model\n",
    "all_water_data.lock_movement = all_water_data['lock_movement'].replace('closing', 0)\n",
    "all_water_data.lock_movement = all_water_data['lock_movement'].replace('opening', 1)\n"
   ]
  },
  {
   "cell_type": "code",
   "execution_count": null,
   "id": "f055a313",
   "metadata": {},
   "outputs": [],
   "source": [
    "min_date = all_water_data[all_water_data['undercarriage_replacement'].diff() == 0].index[0]\n",
    "\n",
    "# aantal dagen verschil tussen dag en dag van onderstel vervanging\n",
    "all_water_data['date difference'] = (all_water_data['datetime'] - all_water_data.datetime[min_date]).dt.days\n",
    "all_water_data.head()\n"
   ]
  },
  {
   "cell_type": "code",
   "execution_count": null,
   "id": "3db4335b",
   "metadata": {},
   "outputs": [],
   "source": [
    "# functie om datetime object om te zetten naar variabelen\n",
    "# tijdens het testen bleek dit niet niet voor verbetering te zorgen\n",
    "def addDates(df):\n",
    "  # df['day'] = df.datetime.dt.day\n",
    "  # df['month'] = df.datetime.dt.month\n",
    "  # df['year'] = df.datetime.dt.year\n",
    "  # df['hour'] = df.datetime.dt.hour\n",
    "  # df['minute'] = df.datetime.dt.minute\n",
    "  return df\n",
    "\n",
    "all_water_data = addDates(all_water_data)\n"
   ]
  },
  {
   "cell_type": "code",
   "execution_count": null,
   "id": "1514885c",
   "metadata": {},
   "outputs": [],
   "source": [
    "# de correlatie van onze numerieke data\n",
    "whole_corr = all_water_data.select_dtypes(include=['float64', 'int64', 'int32']).corr()\n"
   ]
  },
  {
   "cell_type": "code",
   "execution_count": null,
   "id": "d23ecffb",
   "metadata": {},
   "outputs": [],
   "source": [
    "import seaborn\n",
    "plot.figure(figsize=(10, 8))\n",
    "\n",
    "# plot de heatmap\n",
    "seaborn.heatmap(whole_corr, annot=True, cmap='coolwarm')\n",
    "\n",
    "# laat de plot zien\n",
    "plot.show()\n"
   ]
  },
  {
   "cell_type": "code",
   "execution_count": null,
   "id": "ae6834d8",
   "metadata": {},
   "outputs": [],
   "source": [
    "\n",
    "# alleen numerieke data gebruiken\n",
    "numeric_features = all_water_data.select_dtypes(include=[float, int]).columns\n",
    "all_water_data = all_water_data[numeric_features]\n",
    "\n",
    "\n",
    "# dataframe opsplitsen in features en target\n",
    "X = all_water_data.drop(['energy_proxy', 'air_temperature_01C'], axis=1)\n",
    "y = all_water_data['energy_proxy']\n",
    "\n",
    "# dataframe opsplitsen in train en test set\n",
    "X_train, X_test, y_train, y_test = train_test_split(X, y, test_size=0.25, random_state=42)\n",
    "X\n"
   ]
  },
  {
   "cell_type": "code",
   "execution_count": null,
   "id": "f9e84c16",
   "metadata": {},
   "outputs": [],
   "source": [
    "# de parameters voor de randomforest regressor\n",
    "param_grid = {\n",
    "    'n_estimators': [600, 1200],\n",
    "    'max_depth': [None, 10],\n",
    "    'min_samples_split': [2, 5],\n",
    "    'min_samples_leaf': [3, 6, 9, 12]\n",
    "}\n",
    "\n",
    "# de randomForestRegressor\n",
    "random_forest_regressor = RandomForestRegressor(random_state=42)\n",
    "\n",
    "# grid search\n",
    "grid_search = GridSearchCV(estimator=random_forest_regressor, param_grid=param_grid, cv=5, n_jobs=-1, verbose=2)\n",
    "grid_search.fit(X_train, y_train)\n",
    "\n",
    "# pak beste estimator/ combinatie van parameters\n",
    "best_rf = grid_search.best_estimator_\n",
    "\n",
    "# voorspel met beste estimator\n",
    "y_pred = best_rf.predict(X_test)\n",
    "\n",
    "# bereken de scores\n",
    "mae = mean_absolute_error(y_test, y_pred)\n",
    "r2 = r2_score(y_test, y_pred)\n",
    "\n",
    "# Print de scores\n",
    "print(f\"Best Parameters: {grid_search.best_params_}\")\n",
    "print(f\"Mean Absolute Error: {mae}\")\n",
    "print(f\"R-squared: {r2}\")\n",
    "\n",
    "cv_scores = cross_val_score(best_rf, X_train, y_train, cv=5, scoring='neg_mean_absolute_error')\n",
    "print(f\"Cross-validate: {-cv_scores}\")"
   ]
  },
  {
   "cell_type": "code",
   "execution_count": null,
   "id": "0a6b8cc8",
   "metadata": {},
   "outputs": [],
   "source": [
    "mape = mean_absolute_percentage_error(y_test, y_pred)\n",
    "mae = mean_absolute_error(y_test, y_pred)\n",
    "r2 = r2_score(y_test, y_pred)\n",
    "\n",
    "# Print de scores\n",
    "print(f\"Best mape: {mape}\")\n",
    "print(f\"Mean Absolute Error: {mae}\")\n",
    "print(f\"R-squared: {r2}\")"
   ]
  },
  {
   "cell_type": "code",
   "execution_count": null,
   "id": "22c11f33",
   "metadata": {},
   "outputs": [],
   "source": [
    "# Scatter plot\n",
    "plot.scatter(y_pred, y_test, alpha=0.3)\n",
    "\n",
    "# diagonale lijn\n",
    "plot.plot([min(y_pred), max(y_pred)], [min(y_pred), max(y_pred)], color='red', alpha=0.5)\n",
    "\n",
    "# Labels en titel\n",
    "plot.xlabel('Predicted values')\n",
    "plot.ylabel('Actual values')\n",
    "plot.title('Scatter plot of Predicted vs Actual values')\n",
    "\n",
    "# laat de plot zien\n",
    "plot.show()"
   ]
  },
  {
   "cell_type": "code",
   "execution_count": null,
   "id": "714f3ede",
   "metadata": {},
   "outputs": [],
   "source": [
    "results = pandas.DataFrame({'Actual': y_test, 'Predicted': y_pred})\n",
    "results = results.sort_index()\n",
    "\n",
    "plt.figure(figsize=(14, 7))\n",
    "# plt.scatter(results.index, results['Actual'], label='Actual', color='blue')\n",
    "plt.scatter(all_water_data.index[all_water_data.lock_movement == 1], all_water_data.energy_proxy[all_water_data.lock_movement == 1], label='lock opening', color='blue', alpha=0.5)\n",
    "plt.scatter(all_water_data.index[all_water_data.lock_movement == 0], all_water_data.energy_proxy[all_water_data.lock_movement == 0], label='lock closing', color='green', alpha=0.5)\n",
    "\n",
    "# plt.scatter(results.index, results['Predicted'], label='Predicted', color='red', linestyle='--', alpha=0.4)\n",
    "plt.xlabel('Index (Time)')\n",
    "plt.ylabel('Energy Proxy')\n",
    "plt.title('Energy Usage of the Lock (Opening vs Closing)')\n",
    "plt.legend()\n",
    "plt.show()"
   ]
  },
  {
   "cell_type": "code",
   "execution_count": null,
   "id": "f877fad7",
   "metadata": {},
   "outputs": [],
   "source": [
    "# feature importance van beste estimator\n",
    "feature_importances = best_rf.feature_importances_\n",
    "features = X_train.columns\n",
    "\n",
    "# het maken van een dataframe om de feature importance te plotten\n",
    "importance_df = pandas.DataFrame({\n",
    "    'Feature': features,\n",
    "    'Importance': feature_importances\n",
    "})\n",
    "\n",
    "# sorteren op importance\n",
    "importance_df = importance_df.sort_values(by='Importance', ascending=False)\n",
    "\n",
    "# Plot\n",
    "plot.figure(figsize=(10, 8))\n",
    "seaborn.barplot(x='Importance', y='Feature', data=importance_df)\n",
    "plot.title('Feature Importance')\n",
    "plot.show()"
   ]
  },
  {
   "cell_type": "code",
   "execution_count": null,
   "id": "b224b676",
   "metadata": {},
   "outputs": [],
   "source": [
    "from sklearn.tree import plot_tree\n",
    "import matplotlib.pyplot as plt\n",
    "\n",
    "# werkt alleen als de kolommen een list zijn\n",
    "feature_names = X_train.columns.tolist()  # Assuming X_train is a DataFrame\n",
    "\n",
    "# Visualize the tree with a limited depth and adjusted spacing and text size\n",
    "plt.figure(figsize=(20, 10))\n",
    "plot_tree(best_rf.estimators_[0], feature_names=feature_names, filled=True, rounded=True, max_depth=3, proportion=True, fontsize=7)\n",
    "plt.show()\n"
   ]
  },
  {
   "cell_type": "code",
   "execution_count": null,
   "id": "ce21b239",
   "metadata": {},
   "outputs": [],
   "source": [
    "# feature importance van beste estimator\n",
    "feature_importances = best_rf.feature_importances_\n",
    "features = X_train.columns\n",
    "\n",
    "# het maken van een dataframe om de feature importance te plotten\n",
    "importance_df = pandas.DataFrame({\n",
    "    'Feature': features,\n",
    "    'Importance': feature_importances\n",
    "})\n",
    "\n",
    "# sorteren op importance\n",
    "importance_df = importance_df.sort_values(by='Importance', ascending=False)\n",
    "\n",
    "# Plot\n",
    "plot.figure(figsize=(10, 8))\n",
    "seaborn.barplot(x='Importance', y='Feature', data=importance_df)\n",
    "plot.title('Feature Importance')\n",
    "plot.show()"
   ]
  },
  {
   "cell_type": "code",
   "execution_count": null,
   "id": "1cab9b36",
   "metadata": {},
   "outputs": [],
   "source": []
  }
 ],
 "metadata": {
  "kernelspec": {
   "display_name": "Python 3 (ipykernel)",
   "language": "python",
   "name": "python3"
  },
  "language_info": {
   "codemirror_mode": {
    "name": "ipython",
    "version": 3
   },
   "file_extension": ".py",
   "mimetype": "text/x-python",
   "name": "python",
   "nbconvert_exporter": "python",
   "pygments_lexer": "ipython3",
   "version": "3.12.3"
  }
 },
 "nbformat": 4,
 "nbformat_minor": 5
}
