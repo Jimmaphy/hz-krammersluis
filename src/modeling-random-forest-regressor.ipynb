{
 "cells": [
  {
   "cell_type": "code",
   "execution_count": null,
   "id": "56dd5641-2118-48ec-b1d6-24c4dfe5e71a",
   "metadata": {
    "tags": []
   },
   "outputs": [],
   "source": [
    "import pandas\n",
    "import matplotlib.pyplot as plot\n",
    "from sklearn.model_selection import train_test_split\n",
    "from sklearn.linear_model import LinearRegression\n",
    "from sklearn.preprocessing import PolynomialFeatures\n",
    "from sklearn.metrics import mean_squared_error, mean_absolute_error, r2_score\n",
    "from sklearn.ensemble import RandomForestRegressor"
   ]
  },
  {
   "cell_type": "code",
   "execution_count": null,
   "id": "5f82c677-cf3a-4392-bb77-3923ad5c66c4",
   "metadata": {
    "tags": []
   },
   "outputs": [],
   "source": [
    "water_data_before = pandas.read_csv('./waterinfo/cleaned_before.csv')"
   ]
  },
  {
   "cell_type": "code",
   "execution_count": null,
   "id": "3c722675-1b08-44c7-8f6d-baacdeb6aade",
   "metadata": {
    "tags": []
   },
   "outputs": [],
   "source": [
    "water_data_before.describe()"
   ]
  },
  {
   "cell_type": "code",
   "execution_count": null,
   "id": "4bb58f68-736e-4de9-85e6-149f8e62f143",
   "metadata": {
    "tags": []
   },
   "outputs": [],
   "source": [
    "# Separating features and target\n",
    "X = water_data_before['water_temperature_C'].values.reshape(-1, 1)\n",
    "y = water_data_before['energy_proxy']\n",
    "\n",
    "# Splitting the data into training and test sets\n",
    "X_train, X_test, y_train, y_test = train_test_split(X, y, test_size=0.25, random_state=42)"
   ]
  },
  {
   "cell_type": "code",
   "execution_count": null,
   "id": "95771e4d-eeea-4980-95fc-e7905f71c39f",
   "metadata": {
    "tags": []
   },
   "outputs": [],
   "source": [
    "# de classifier\n",
    "random_forest_regressor = RandomForestRegressor(random_state=42)\n",
    "\n",
    "# Training met train set\n",
    "random_forest_regressor.fit(X_train, y_train)\n",
    "\n",
    "# voorspellen met test set\n",
    "y_pred = random_forest_regressor.predict(X_test)\n",
    "\n",
    "# scores berekenen\n",
    "\n",
    "# Calculate scores\n",
    "mae = mean_absolute_error(y_test, y_pred)\n",
    "r2 = r2_score(y_test, y_pred)\n",
    "\n",
    "# Print the scores\n",
    "print(f\"Mean absolute Error: {mae}\")\n",
    "print(f\"R-squared: {r2}\")\n",
    "# Accuracy: 0.7865168539325843"
   ]
  },
  {
   "cell_type": "code",
   "execution_count": null,
   "id": "5bf24a14-5130-476b-92ec-cdc4ce98b641",
   "metadata": {
    "tags": []
   },
   "outputs": [],
   "source": [
    "plot.scatter(y_pred, y_test, alpha=0.4)"
   ]
  },
  {
   "cell_type": "code",
   "execution_count": null,
   "id": "afd28364-9c20-4dd3-aac5-65a97ff3dffc",
   "metadata": {
    "tags": []
   },
   "outputs": [],
   "source": [
    "water_data_after = pandas.read_csv('./waterinfo/cleaned_after.csv')"
   ]
  },
  {
   "cell_type": "code",
   "execution_count": null,
   "id": "c98c6556-234b-432f-9e8c-716e2c8fcdb3",
   "metadata": {
    "tags": []
   },
   "outputs": [],
   "source": [
    "water_data_after.describe()"
   ]
  },
  {
   "cell_type": "code",
   "execution_count": null,
   "id": "4e454edb-e72f-4cb5-81f5-a7713319caa3",
   "metadata": {
    "tags": []
   },
   "outputs": [],
   "source": [
    "# Separating features and target\n",
    "X = water_data_after['water_temperature_C'].values.reshape(-1, 1)\n",
    "y = water_data_after['energy_proxy']\n",
    "\n",
    "# Splitting the data into training and test sets\n",
    "X_train, X_test, y_train, y_test = train_test_split(X, y, test_size=0.25, random_state=42)"
   ]
  },
  {
   "cell_type": "code",
   "execution_count": null,
   "id": "7cc11bd8-e09d-4d7f-8036-040eccee261a",
   "metadata": {
    "tags": []
   },
   "outputs": [],
   "source": [
    "random_forest_regressor = RandomForestRegressor(random_state=42)\n",
    "\n",
    "# Training met train set\n",
    "random_forest_regressor.fit(X_train, y_train)\n",
    "\n",
    "# voorspellen met test set\n",
    "y_pred = random_forest_regressor.predict(X_test)\n",
    "\n",
    "# scores berekenen\n",
    "\n",
    "# Calculate scores\n",
    "mae = mean_absolute_error(y_test, y_pred)\n",
    "r2 = r2_score(y_test, y_pred)\n",
    "\n",
    "# Print the scores\n",
    "print(f\"Mean absolute Error: {mae}\")\n",
    "print(f\"R-squared: {r2}\")"
   ]
  },
  {
   "cell_type": "code",
   "execution_count": null,
   "id": "02859b2d-b057-4a5f-9e8c-30533166750d",
   "metadata": {
    "tags": []
   },
   "outputs": [],
   "source": [
    "plot.scatter(y_pred, y_test, alpha=0.4)"
   ]
  },
  {
   "cell_type": "code",
   "execution_count": null,
   "id": "a8cbd00d-3e7a-416a-b9a6-0b39c901d4c1",
   "metadata": {},
   "outputs": [],
   "source": []
  }
 ],
 "metadata": {
  "kernelspec": {
   "display_name": "Python 3 (ipykernel)",
   "language": "python",
   "name": "python3"
  },
  "language_info": {
   "codemirror_mode": {
    "name": "ipython",
    "version": 3
   },
   "file_extension": ".py",
   "mimetype": "text/x-python",
   "name": "python",
   "nbconvert_exporter": "python",
   "pygments_lexer": "ipython3",
   "version": "3.11.5"
  }
 },
 "nbformat": 4,
 "nbformat_minor": 5
}
