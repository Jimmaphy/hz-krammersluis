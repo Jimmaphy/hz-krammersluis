{
 "cells": [
  {
   "cell_type": "code",
   "execution_count": null,
   "id": "c32ef153-1eaf-4c1f-a762-7b1cba597655",
   "metadata": {
    "tags": []
   },
   "outputs": [],
   "source": [
    "import pandas\n",
    "import matplotlib.pyplot as plot\n",
    "from sklearn.model_selection import train_test_split\n",
    "from sklearn.linear_model import LinearRegression\n",
    "from sklearn.preprocessing import PolynomialFeatures\n",
    "from sklearn.metrics import mean_squared_error, mean_absolute_error, r2_score\n",
    "from sklearn.ensemble import RandomForestRegressor"
   ]
  },
  {
   "cell_type": "markdown",
   "id": "7af38237",
   "metadata": {},
   "source": [
    "## before replacement"
   ]
  },
  {
   "cell_type": "code",
   "execution_count": null,
   "id": "db9521fd-391b-4b11-afaf-05a734018f3f",
   "metadata": {
    "tags": []
   },
   "outputs": [],
   "source": [
    "water_data_before = pandas.read_csv('C:/Users/erjbr/datascience/data/Data_Krammersluis.csv')"
   ]
  },
  {
   "cell_type": "code",
   "execution_count": null,
   "id": "9c7c16cf-3721-4dd1-ab9a-493f31a4be9c",
   "metadata": {
    "tags": []
   },
   "outputs": [],
   "source": [
    "water_data_before"
   ]
  },
  {
   "cell_type": "code",
   "execution_count": null,
   "id": "bdf9a8a8-6557-4dfd-ace0-5b2ff1c8a2ba",
   "metadata": {
    "tags": []
   },
   "outputs": [],
   "source": [
    "# Separating features and target\n",
    "X = water_data_before['water_temperature_C'].values.reshape(-1, 1)\n",
    "y = water_data_before['energy_proxy']\n",
    "\n",
    "# Splitting the data into training and test sets\n",
    "X_train, X_test, y_train, y_test = train_test_split(X, y, test_size=0.25, random_state=42)"
   ]
  },
  {
   "cell_type": "code",
   "execution_count": null,
   "id": "14045b4b-3d92-46b2-b489-d9061f1fb142",
   "metadata": {
    "tags": []
   },
   "outputs": [],
   "source": [
    "linear_regressor = LinearRegression()\n",
    "linear_regressor.fit(X_train, y_train)\n",
    "\n",
    "# voorspellen met test set\n",
    "y_pred = linear_regressor.predict(X_test)\n",
    "\n",
    "mae = mean_absolute_error(y_test, y_pred)\n",
    "r2 = r2_score(y_test, y_pred)\n",
    "\n",
    "# Print the scores\n",
    "print(f\"Mean absolute Error: {mae}\")\n",
    "print(f\"R-squared: {r2}\")"
   ]
  },
  {
   "cell_type": "code",
   "execution_count": null,
   "id": "268ed3d3-cafe-41c4-8321-55919174608a",
   "metadata": {
    "tags": []
   },
   "outputs": [],
   "source": [
    "plot.scatter(y_pred, y_test, alpha=0.4)"
   ]
  },
  {
   "cell_type": "markdown",
   "id": "1a52b3e0",
   "metadata": {},
   "source": [
    "## after replacement"
   ]
  },
  {
   "cell_type": "code",
   "execution_count": null,
   "id": "c5527724-b621-4b1b-9387-d2665d49a6da",
   "metadata": {
    "tags": []
   },
   "outputs": [],
   "source": [
    "water_data_after = pandas.read_csv('./cleaned_all.csv')"
   ]
  },
  {
   "cell_type": "code",
   "execution_count": null,
   "id": "140c3c0c-ab10-48d9-ad09-c5c6cbb195f3",
   "metadata": {
    "tags": []
   },
   "outputs": [],
   "source": [
    "water_data_after"
   ]
  },
  {
   "cell_type": "code",
   "execution_count": null,
   "id": "087b7aa5-fb19-4f92-adb7-d8bdcc021767",
   "metadata": {
    "tags": []
   },
   "outputs": [],
   "source": [
    "# Separating features and target\n",
    "X = water_data_after['water_temperature_C'].values.reshape(-1, 1)\n",
    "y = water_data_after['energy_proxy']\n",
    "\n",
    "# Splitting the data into training and test sets\n",
    "X_train, X_test, y_train, y_test = train_test_split(X, y, test_size=0.2, random_state=42)"
   ]
  },
  {
   "cell_type": "code",
   "execution_count": null,
   "id": "a7153e4a-8154-4699-a366-04189afc561f",
   "metadata": {
    "tags": []
   },
   "outputs": [],
   "source": [
    "linear_regressor = LinearRegression()\n",
    "linear_regressor.fit(X_train, y_train)\n",
    "\n",
    "# voorspellen met test set\n",
    "y_pred = linear_regressor.predict(X_test)\n",
    "\n",
    "mae = mean_absolute_error(y_test, y_pred)\n",
    "r2 = r2_score(y_test, y_pred)\n",
    "\n",
    "# Print the scores\n",
    "print(f\"Mean absolute Error: {mae}\")\n",
    "print(f\"R-squared: {r2}\")"
   ]
  },
  {
   "cell_type": "code",
   "execution_count": null,
   "id": "46baa6e2-614b-498b-bbb4-dcae9b29c2c6",
   "metadata": {
    "tags": []
   },
   "outputs": [],
   "source": [
    "plot.scatter(y_pred, y_test, alpha=0.4)"
   ]
  },
  {
   "cell_type": "markdown",
   "id": "54f9a532",
   "metadata": {},
   "source": [
    "## whole dataset"
   ]
  },
  {
   "cell_type": "code",
   "execution_count": null,
   "id": "0d95ad30-f0f7-4144-b839-201f784cdf55",
   "metadata": {},
   "outputs": [],
   "source": [
    "all_water_data = pandas.read_csv('./cleaned_all.csv')"
   ]
  },
  {
   "cell_type": "code",
   "execution_count": null,
   "id": "d0ba1a58-e5cb-4054-866f-f39308215363",
   "metadata": {
    "tags": []
   },
   "outputs": [],
   "source": [
    "# Ensure we are only using numeric data\n",
    "numeric_features = all_water_data.select_dtypes(include=[float, int]).columns\n",
    "all_water_data = all_water_data[numeric_features]\n",
    "\n",
    "# Assuming 'energy_usage' is the target column\n",
    "X = all_water_data.drop(['energy_proxy'], axis=1)\n",
    "y = all_water_data['energy_proxy']\n",
    "\n",
    "# Splitting data\n",
    "X_train, X_test, y_train, y_test = train_test_split(X, y, test_size=0.2, random_state=42)\n",
    "X"
   ]
  },
  {
   "cell_type": "code",
   "execution_count": null,
   "id": "8c4615fb-a1dd-483d-beb1-b4f5c562e095",
   "metadata": {
    "tags": []
   },
   "outputs": [],
   "source": [
    "linear_regressor = LinearRegression()\n",
    "linear_regressor.fit(X_train, y_train)\n",
    "\n",
    "# voorspellen met test set\n",
    "y_pred = linear_regressor.predict(X_test)\n",
    "\n",
    "mae = mean_absolute_error(y_test, y_pred)\n",
    "r2 = r2_score(y_test, y_pred)\n",
    "\n",
    "# Print the scores\n",
    "print(f\"Mean absolute Error: {mae}\")\n",
    "print(f\"R-squared: {r2}\")"
   ]
  },
  {
   "cell_type": "code",
   "execution_count": null,
   "id": "c1be0cc6-7d29-4752-a41e-71209f7eaac8",
   "metadata": {},
   "outputs": [],
   "source": [
    "plot.scatter(y_pred, y_test, alpha=0.4)"
   ]
  },
  {
   "cell_type": "code",
   "execution_count": null,
   "id": "3769504d",
   "metadata": {},
   "outputs": [],
   "source": []
  }
 ],
 "metadata": {
  "kernelspec": {
   "display_name": "Python 3 (ipykernel)",
   "language": "python",
   "name": "python3"
  },
  "language_info": {
   "codemirror_mode": {
    "name": "ipython",
    "version": 3
   },
   "file_extension": ".py",
   "mimetype": "text/x-python",
   "name": "python",
   "nbconvert_exporter": "python",
   "pygments_lexer": "ipython3",
   "version": "3.12.3"
  }
 },
 "nbformat": 4,
 "nbformat_minor": 5
}
