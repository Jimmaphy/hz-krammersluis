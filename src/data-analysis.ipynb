{
 "cells": [
  {
   "cell_type": "code",
   "execution_count": null,
   "id": "f9fe3f2d-4e38-46b1-86a4-cce2f6271b74",
   "metadata": {
    "tags": []
   },
   "outputs": [],
   "source": [
    "import pandas as pd"
   ]
  },
  {
   "cell_type": "code",
   "execution_count": null,
   "id": "d5862f22-4819-4434-8eb5-6f624ad7977c",
   "metadata": {
    "tags": []
   },
   "outputs": [],
   "source": [
    "import matplotlib.pyplot as plot"
   ]
  },
  {
   "cell_type": "code",
   "execution_count": null,
   "id": "b69c51a5-219c-4f01-a9dd-3683ca4be516",
   "metadata": {},
   "outputs": [],
   "source": [
    "from sklearn.preprocessing import OneHotEncoder"
   ]
  },
  {
   "cell_type": "code",
   "execution_count": null,
   "id": "d2428906-f034-4304-9562-9cfedca4be4b",
   "metadata": {},
   "outputs": [],
   "source": []
  },
  {
   "cell_type": "code",
   "execution_count": null,
   "id": "7a6f6f08-f764-41dd-afdc-68da934cc3b7",
   "metadata": {
    "tags": []
   },
   "outputs": [],
   "source": [
    "df = pd.read_csv('./data/Data_Krammersluis.csv', sep=\",\")"
   ]
  },
  {
   "cell_type": "code",
   "execution_count": null,
   "id": "7fd53816-6082-4544-8713-c292483aedd7",
   "metadata": {
    "tags": []
   },
   "outputs": [],
   "source": [
    "df.info()"
   ]
  },
  {
   "cell_type": "code",
   "execution_count": null,
   "id": "df770ad0-3637-41b2-a37f-7533934da3c1",
   "metadata": {
    "tags": []
   },
   "outputs": [],
   "source": [
    "df.describe()"
   ]
  },
  {
   "cell_type": "code",
   "execution_count": null,
   "id": "d93a185f-7521-43cd-b787-cb451a484c29",
   "metadata": {},
   "outputs": [],
   "source": [
    "## hieronder zijn alle rows verwijderd met 9999999999 value, alleen had ik perongeluk wat regels code verwijderd dus er mist df.describe() om te checken wat de mean is"
   ]
  },
  {
   "cell_type": "code",
   "execution_count": null,
   "id": "31a73aeb-5124-43b8-bf69-28ec4e38d245",
   "metadata": {
    "tags": []
   },
   "outputs": [],
   "source": [
    "df = df[df['water_temperature_C'] != 999999999999]"
   ]
  },
  {
   "cell_type": "code",
   "execution_count": null,
   "id": "f0ca1d3a-bd98-42a0-b417-f5f17adafe28",
   "metadata": {},
   "outputs": [],
   "source": [
    "## hieronder zijn de gekke values vervangen voor de mean"
   ]
  },
  {
   "cell_type": "code",
   "execution_count": null,
   "id": "36bb95d5-979e-4846-8d29-0ec02fd6040f",
   "metadata": {
    "tags": []
   },
   "outputs": [],
   "source": [
    "df = pd.read_csv('./data/Data_Krammersluis.csv', sep=\",\")"
   ]
  },
  {
   "cell_type": "code",
   "execution_count": null,
   "id": "83367f50-3098-49a9-bf7b-4c27b477c1f8",
   "metadata": {
    "tags": []
   },
   "outputs": [],
   "source": [
    "df.replace(999999999999, 11.7, inplace=True)"
   ]
  },
  {
   "cell_type": "code",
   "execution_count": null,
   "id": "43271d1c-a08a-4525-9ba6-c92f3ed3d39c",
   "metadata": {
    "tags": []
   },
   "outputs": [],
   "source": [
    "df.describe()"
   ]
  },
  {
   "cell_type": "code",
   "execution_count": null,
   "id": "1f67197e-9779-4436-bebd-2139f2fbec57",
   "metadata": {},
   "outputs": [],
   "source": [
    "## hieronder zijn weer alle rows verwijderd met 999999...."
   ]
  },
  {
   "cell_type": "code",
   "execution_count": null,
   "id": "8019760a-531d-4936-98c4-72cf33d3116e",
   "metadata": {
    "tags": []
   },
   "outputs": [],
   "source": [
    "df = df[df['water_level_cmNAP'] != 999999999]"
   ]
  },
  {
   "cell_type": "code",
   "execution_count": null,
   "id": "5b573753-68ed-40ab-8829-62d9dfe4b656",
   "metadata": {
    "tags": []
   },
   "outputs": [],
   "source": [
    "df.info()"
   ]
  },
  {
   "cell_type": "code",
   "execution_count": null,
   "id": "06e036d2-669b-4d1a-aaac-fd2f2a324b2d",
   "metadata": {},
   "outputs": [],
   "source": [
    "## de rows zijn verwijderd zodat ik duidelijk kan zien wat de nieuwe mean is"
   ]
  },
  {
   "cell_type": "code",
   "execution_count": null,
   "id": "e5bd97ef-6b7a-4167-b52f-700263f44c6e",
   "metadata": {
    "tags": []
   },
   "outputs": [],
   "source": [
    "df.describe()"
   ]
  },
  {
   "cell_type": "code",
   "execution_count": null,
   "id": "cb9ff6ed-4d82-414f-9537-82ad50362ac9",
   "metadata": {},
   "outputs": [],
   "source": [
    "##hieronder hebben we even alle gekke values in totaal vervangen met de 2 verschillende means zodat de tabel helemaal klopt"
   ]
  },
  {
   "cell_type": "code",
   "execution_count": null,
   "id": "c7bce841-5230-411b-a1ba-71ae24aaa812",
   "metadata": {
    "tags": []
   },
   "outputs": [],
   "source": [
    "df = pd.read_csv('./data/Data_Krammersluis.csv', sep=\",\")"
   ]
  },
  {
   "cell_type": "code",
   "execution_count": null,
   "id": "0417b713-3d9d-47c7-8721-0f57f3ec719b",
   "metadata": {
    "tags": []
   },
   "outputs": [],
   "source": [
    "df.replace(999999999999, 11.7, inplace=True)"
   ]
  },
  {
   "cell_type": "code",
   "execution_count": null,
   "id": "939351bd-d06f-431a-9734-570f92e0142b",
   "metadata": {
    "tags": []
   },
   "outputs": [],
   "source": [
    "df.replace(999999999, 8.8, inplace=True)"
   ]
  },
  {
   "cell_type": "code",
   "execution_count": null,
   "id": "8cc4389e-e2b0-4412-b405-e9069e3d5ea3",
   "metadata": {
    "tags": []
   },
   "outputs": [],
   "source": [
    "df.head()"
   ]
  },
  {
   "cell_type": "code",
   "execution_count": null,
   "id": "e0aeed8f-118a-492b-8458-d6fed2e233a0",
   "metadata": {
    "tags": []
   },
   "outputs": [],
   "source": [
    "df.datetime = pd.to_datetime(df['datetime'])"
   ]
  },
  {
   "cell_type": "code",
   "execution_count": null,
   "id": "407a2bc0-6cab-43de-a0a2-3c7ca9321482",
   "metadata": {
    "tags": []
   },
   "outputs": [],
   "source": [
    "df.head()"
   ]
  },
  {
   "cell_type": "code",
   "execution_count": null,
   "id": "1ae3d3d9-8bae-450b-9637-6fc9c78a030a",
   "metadata": {
    "tags": []
   },
   "outputs": [],
   "source": [
    "df['air_temperature_01C'] = df['air_temperature_01C'] / 10"
   ]
  },
  {
   "cell_type": "code",
   "execution_count": null,
   "id": "cb663105-239c-42d2-9671-2655b49f2d11",
   "metadata": {
    "tags": []
   },
   "outputs": [],
   "source": [
    "index_verandering = df[df['undercarriage_replacement'] == 1].index[0]\n",
    "\n",
    "# Getting the date when the undercarriage was first replaced\n",
    "datum_verandering = df.loc[index_verandering, 'datetime']\n",
    "\n",
    "# Setting the figure size\n",
    "plot.figure(figsize=(12, 6))\n",
    "\n",
    "# Plotting air temperature in blue\n",
    "plot.scatter(df.datetime, df.air_temperature_01C, color='black', s=5, alpha=0.2, label='Lucht temperatuur')\n",
    "\n",
    "# Plotting water temperature in green\n",
    "plot.scatter(df.datetime, df.water_temperature_C, color='blue', s=5, alpha=0.2, label='Water temperatuur')\n",
    "\n",
    "# Setting the title and labels\n",
    "plot.title('Lucht- en watertemperatuur')\n",
    "plot.xlabel('Datum')\n",
    "plot.ylabel('Temperatuur (°C)')\n",
    "\n",
    "# Rotating the x-axis labels for better readability\n",
    "plot.xticks(rotation=45)\n",
    "\n",
    "# Adding a grid\n",
    "plot.grid(True)\n",
    "\n",
    "# Adding a red vertical line to indicate the date of undercarriage replacement\n",
    "plot.axvline(x=datum_verandering, color='red', label='Onderstel vervangen')\n",
    "\n",
    "# Adding a legend\n",
    "plot.legend()\n",
    "\n",
    "# Displaying the plot\n",
    "plot.show()"
   ]
  },
  {
   "cell_type": "code",
   "execution_count": null,
   "id": "8645e18b-55c1-4b09-b8b8-4ef95e235c7f",
   "metadata": {
    "tags": []
   },
   "outputs": [],
   "source": [
    "import matplotlib.pyplot as plt\n",
    "import pandas as pd\n",
    "\n",
    "def get_season(month):\n",
    "    if month in [12, 1, 2]:\n",
    "        return 'winter'\n",
    "    elif month in [3, 4, 5]:\n",
    "        return 'spring'\n",
    "    elif month in [6, 7, 8]:\n",
    "        return 'summer'\n",
    "    else:\n",
    "        return 'autumn'\n",
    "\n",
    "plt.figure(figsize=(12, 6))\n",
    "plt.scatter(df.datetime, df.energy_proxy, s=5, alpha=0.2)\n",
    "plt.title('Energieverbruik')\n",
    "plt.xlabel('Datum')\n",
    "plt.ylabel('Energieverbruik')\n",
    "plt.xticks(rotation=45)\n",
    "plt.grid(True)\n",
    "\n",
    "for year in range(2020, 2024):\n",
    "    for month in range(1, 13):\n",
    "        month_start = pd.Timestamp(year=year, month=month, day=1)\n",
    "        next_month = month % 12 + 1\n",
    "        next_year = year if next_month != 1 else year + 1\n",
    "        month_end = pd.Timestamp(year=next_year, month=next_month, day=1)\n",
    "        season = get_season(month)\n",
    "        plt.axvspan(month_start, month_end, facecolor={'winter': 'lightblue', 'spring': 'lightgreen', 'summer': 'lightyellow', 'autumn': 'lightcoral'}[season], alpha=0.3)\n",
    "\n",
    "# Custom legend labels\n",
    "legend_labels = {'winter': 'Winter', 'spring': 'Lente', 'summer': 'Zomer', 'autumn': 'Herfst'}\n",
    "legend_handles = [plt.Rectangle((0,0),1,1,fc=color) for color in ['lightblue', 'lightgreen', 'lightyellow', 'lightcoral']]\n",
    "\n",
    "# Add legend\n",
    "plt.legend(legend_handles, legend_labels.values())\n",
    "\n",
    "plt.show()\n"
   ]
  },
  {
   "cell_type": "code",
   "execution_count": null,
   "id": "b2a7309f-a773-4a79-ad94-d18e38493774",
   "metadata": {
    "tags": []
   },
   "outputs": [],
   "source": [
    "plot.figure(figsize=(10, 6))\n",
    "plot.hist(df.water_temperature_C, bins=30, color='skyblue', alpha=0.7)\n",
    "plot.title('Histogram van water temperatuur')\n",
    "plot.xlabel('Water temperatuur (°C)')\n",
    "plot.ylabel('Frequentie')\n",
    "plot.grid(True)\n",
    "plot.xlim(-5, 30)\n",
    "plot.show()\n",
    "\n"
   ]
  },
  {
   "cell_type": "code",
   "execution_count": null,
   "id": "65bfb919-5502-4ebd-8c9f-dc269f1c28a1",
   "metadata": {
    "tags": []
   },
   "outputs": [],
   "source": [
    "# formaat is 10 bij 6\n",
    "plot.figure(figsize=(10, 6))\n",
    "\n",
    "# histogram van lucht temperatuur\n",
    "# bins = 30 betekent 30 staven\n",
    "plot.hist(df.air_temperature_01C, bins=30, color='orange', alpha=0.7)\n",
    "\n",
    "# diagram info\n",
    "plot.title('Histogram van lucht temperatuur')\n",
    "plot.xlabel('Lucht temperatuur (°C)')\n",
    "plot.ylabel('Frequentie')\n",
    "\n",
    "#zet grid aan\n",
    "plot.grid(True)\n",
    "plot.xlim(-5, 30)\n",
    "\n",
    "#laat diagram zien\n",
    "plot.show()"
   ]
  },
  {
   "cell_type": "code",
   "execution_count": null,
   "id": "72dd40d1-9020-4e5e-80b3-88fa4828ff10",
   "metadata": {
    "tags": []
   },
   "outputs": [],
   "source": [
    "# kijk lucht temperatuur diagram, is zelfde alleen ander kolom\n",
    "plot.figure(figsize=(10, 6))\n",
    "plot.hist(df.water_level_cmNAP, bins=30, color='green', alpha=0.7)\n",
    "plot.title('Histogram van waterpeil')\n",
    "plot.xlabel('Waterpeil (cm boven NAP)')\n",
    "plot.ylabel('Frequentie')\n",
    "plot.grid(True)\n",
    "plot.show()"
   ]
  },
  {
   "cell_type": "code",
   "execution_count": null,
   "id": "4497cb5d-9623-4f2a-acf4-5bd31abdfa75",
   "metadata": {
    "tags": []
   },
   "outputs": [],
   "source": [
    "#formaat\n",
    "plot.figure(figsize=(10, 6))\n",
    "            \n",
    "#scatterplot voor water temp en energie gebruik.\n",
    "plot.scatter(df['water_temperature_C'], df['energy_proxy'], color='blue')\n",
    "            \n",
    "#diagram info\n",
    "plot.title('Scatterplot van energieverbruik tegenover water temperatuur')\n",
    "plot.xlabel('Water temperatuur (°C)')\n",
    "plot.ylabel('Energieverbruik')\n",
    "            \n",
    "#zet grid aan\n",
    "plot.grid(True)\n",
    "    \n",
    "#laat diagram zien\n",
    "plot.show()\n"
   ]
  },
  {
   "cell_type": "code",
   "execution_count": null,
   "id": "6a9a0814-f43e-44ec-9e3a-552770df34e2",
   "metadata": {
    "tags": []
   },
   "outputs": [],
   "source": [
    "# kijk scatterplot water temp en energie verbruik (de donkerblauwe) hierboven\n",
    "# heeft zelfde settings, alleen voor andere kolommen\n",
    "\n",
    "plot.figure(figsize=(10, 6))\n",
    "plot.scatter(df['air_temperature_01C'], df['energy_proxy'], color='red')\n",
    "plot.title('Scatterplot van energieverbruik tegenover lucht temperatuur')\n",
    "plot.xlabel('Lucht temperatuur (°C)')\n",
    "plot.ylabel('Energieverbruik')\n",
    "plot.grid(True)\n",
    "plot.show()\n",
    " "
   ]
  },
  {
   "cell_type": "code",
   "execution_count": null,
   "id": "a711d576-b253-4c96-a444-3ed99e619445",
   "metadata": {
    "tags": []
   },
   "outputs": [],
   "source": [
    "# kijk scatterplot water temp en energie verbruik (de donkerblauwe) hierboven\n",
    "# heeft zelfde settings, alleen voor andere kolommen\n",
    "\n",
    "plot.figure(figsize=(10, 6))\n",
    "plot.scatter(df['water_level_cmNAP'], df['energy_proxy'], color='green')\n",
    "plot.title('Scatterplot van energieverbruik tegenover waterpeil')\n",
    "plot.xlabel('Waterpeil (cm boven NAP)')\n",
    "plot.ylabel('Energieverbruik')\n",
    "plot.grid(True)\n",
    "plot.show()\n"
   ]
  },
  {
   "cell_type": "code",
   "execution_count": null,
   "id": "21a41fad-b5e6-4af4-866a-b84286d13c65",
   "metadata": {
    "tags": []
   },
   "outputs": [],
   "source": [
    "## value counts laat zien welk waarde hoeveel voorkomt\n",
    "lock_movement_counts = df['lock_movement'].value_counts()\n",
    "\n",
    "#formaat, 8 bij 8\n",
    "plot.figure(figsize=(8, 8))\n",
    "\n",
    "# autopct zet automatisch de goede percentages erbij, geformat als 1.1, waar de laatste 1 voor 1 decimaal staat\n",
    "# voor meer info, bezoek https://matplotlib.org/stable/api/_as_gen/matplotlib.pyplot.pie.html\n",
    "# labels zet er opening en closed bij\n",
    "plot.pie(lock_movement_counts, labels=lock_movement_counts.index, autopct='%1.1f%%', colors=['lightblue', 'lightgreen'])\n",
    "plot.title('Verhouding van lock_movement (openen, sluiten)')\n",
    "plot.show()"
   ]
  },
  {
   "cell_type": "code",
   "execution_count": null,
   "id": "0b812980-2481-4cf8-b305-277f3b001f2e",
   "metadata": {
    "tags": []
   },
   "outputs": [],
   "source": [
    "#zie bovenstaande diagram\n",
    "undercarriage_counts = df['undercarriage_replacement'].value_counts()\n",
    "\n",
    "plot.figure(figsize=(8, 8))\n",
    "plot.pie(undercarriage_counts, labels=undercarriage_counts.index.astype(str) + ' (' + undercarriage_counts.astype(str) + 'x)', autopct='%1.1f%%', colors=['lightblue', 'lightgreen'])\n",
    "plot.title('Verhouding van undercarriage replacement (vervanging van onderstel)')\n",
    "plot.show()"
   ]
  },
  {
   "cell_type": "code",
   "execution_count": null,
   "id": "aab3d7e7-bebf-4c1e-a14e-a79722398737",
   "metadata": {
    "tags": []
   },
   "outputs": [],
   "source": [
    "# alternatief van matplotlib\n",
    "#niet echt een reden voor, deze leek gewoon duidelijker i guess\n",
    "import seaborn\n",
    "\n",
    "# hierdoor gebruiken we alleen de heatmap voor getallen (float64 en int64)\n",
    "numeric_df = df.select_dtypes(include=['float64', 'int64'])\n",
    "\n",
    "#hier halen we de correlatie op\n",
    "correlation_matrix = numeric_df.corr()\n",
    "\n",
    "# formaat van diagram, 10 bij 8\n",
    "# (x, y) = (10, 8)\n",
    "plot.figure(figsize=(10, 8))\n",
    "\n",
    "# annot is zodat de nummertjes worden laten zien\n",
    "#in heatmap maken we van de correlatie de heatmap\n",
    "# er is gekozen voor coolwarm (rood en blauw), zodat je makkelijk de sterkte en soort correlatie ziet\n",
    "seaborn.heatmap(correlation_matrix, annot=True, cmap='coolwarm')\n",
    "plot.title('Correlation between numerical variables')\n",
    "plot.show()"
   ]
  },
  {
   "cell_type": "code",
   "execution_count": null,
   "id": "b168c0c8-72f3-48aa-b546-69c12adc24f0",
   "metadata": {},
   "outputs": [],
   "source": [
    "# alles voor de replacenent, wordt geschreven als [0:index van replacement]\n",
    "#dat geeft alle waardes waar de index tussen de 0 en die index zit\n",
    "before_replacement = df.loc[0:index_verandering - 1]\n",
    "\n",
    "#zelfde maar andersom = [index:] is hetzelfde als [index:-1]\n",
    "#haalt alles op van tussen de index en het eind\n",
    "after_replacement = df.loc[index_verandering:]"
   ]
  },
  {
   "cell_type": "code",
   "execution_count": null,
   "id": "56ef1bf3-ac9d-48d4-966e-9ca1f0bd74df",
   "metadata": {
    "tags": []
   },
   "outputs": [],
   "source": [
    "before_replacement"
   ]
  },
  {
   "cell_type": "code",
   "execution_count": null,
   "id": "b336ac4b-fc5f-4be1-913e-384ab6ed3173",
   "metadata": {
    "tags": []
   },
   "outputs": [],
   "source": [
    "after_replacement"
   ]
  },
  {
   "cell_type": "code",
   "execution_count": null,
   "id": "41210272-1f12-43a3-ae2e-a7e87de27509",
   "metadata": {
    "tags": []
   },
   "outputs": [],
   "source": [
    "#formaat, 10 bij 6\n",
    "plot.figure(figsize=(10, 6))\n",
    "\n",
    "#scatterplot met de 2 kolommen water temp en energy proxy\n",
    "#alpha staat voor hoe transparant het is\n",
    "plot.scatter(before_replacement['water_temperature_C'], before_replacement['energy_proxy'], color='blue', alpha=0.2)\n",
    "\n",
    "#diagram info, zoals titel ect\n",
    "plot.title('Voor replacement - Scatterplot van energieverbruik tegenover water temperatuur')\n",
    "plot.xlabel('Water temperatuur (°C)')\n",
    "plot.ylabel('Energieverbruik')\n",
    "\n",
    "#zet grid aan\n",
    "plot.grid(True)\n",
    "plot.xlim(-5, 30)\n",
    "plot.ylim(-300000, 5000000)\n",
    "\n",
    "#laat de diagram zien\n",
    "plot.show()"
   ]
  },
  {
   "cell_type": "code",
   "execution_count": null,
   "id": "948211b1-2b67-4789-9690-d60864b375a0",
   "metadata": {
    "tags": []
   },
   "outputs": [],
   "source": [
    "#zelfde als diagram hierboven, maar dan met data na replacement\n",
    "\n",
    "plot.figure(figsize=(10, 6))\n",
    "plot.scatter(after_replacement['water_temperature_C'], after_replacement['energy_proxy'], color='blue', alpha=0.2)\n",
    "plot.title('Na replacement - Scatterplot van energieverbruik tegenover water temperatuur')\n",
    "plot.xlabel('Water temperatuur (°C)')\n",
    "plot.ylabel('Energieverbruik')\n",
    "plot.grid(True)\n",
    "plot.xlim(-5, 30)\n",
    "plot.ylim(-300000, 5000000)\n",
    "plot.show()"
   ]
  },
  {
   "cell_type": "code",
   "execution_count": null,
   "id": "4054b48d-c7c6-4b35-a932-130d3c54fc06",
   "metadata": {
    "tags": []
   },
   "outputs": [],
   "source": [
    "#zelfde als diagram hierboven, maar dan met lucht temperatuur voor replacement\n",
    "\n",
    "plot.figure(figsize=(10, 6))\n",
    "plot.scatter(before_replacement['air_temperature_01C'], before_replacement['energy_proxy'], color='red', alpha=0.2)\n",
    "plot.title('Voor replacement - Scatterplot van energieverbruik tegenover lucht temperatuur')\n",
    "plot.xlabel('Lucht temperatuur (°C)')\n",
    "plot.ylabel('Energieverbruik')\n",
    "plot.grid(True)\n",
    "plot.xlim(-5, 30)\n",
    "plot.ylim(-300000, 5000000)\n",
    "plot.show()\n",
    " "
   ]
  },
  {
   "cell_type": "code",
   "execution_count": null,
   "id": "8ad11a05-d4b4-490e-b23f-6600fab5cc66",
   "metadata": {
    "tags": []
   },
   "outputs": [],
   "source": [
    "#zelfde als diagram hierboven, alleen dan met lucht temp na replacement\n",
    "\n",
    "plot.figure(figsize=(10, 6))\n",
    "plot.scatter(after_replacement['air_temperature_01C'], after_replacement['energy_proxy'], color='red', alpha=0.2)\n",
    "plot.title('Na replacement - Scatterplot van energieverbruik tegenover lucht temperatuur')\n",
    "plot.xlabel('Lucht temperatuur (°C)')\n",
    "plot.ylabel('Energieverbruik')\n",
    "plot.grid(True)\n",
    "plot.xlim(-5, 30)\n",
    "plot.ylim(0, 5000000)\n",
    "plot.show()"
   ]
  },
  {
   "cell_type": "code",
   "execution_count": null,
   "id": "308c7838-49f4-4b25-bed5-bf19dc9e8e88",
   "metadata": {
    "tags": []
   },
   "outputs": [],
   "source": [
    "#zelfde als diagram hierboven, alleen dan met water level voor replacement\n",
    "\n",
    "plot.figure(figsize=(10, 6))\n",
    "plot.scatter(before_replacement['water_level_cmNAP'], before_replacement['energy_proxy'], color='green', alpha=0.2)\n",
    "plot.title('Voor replacement - Scatterplot van energieverbruik tegenover waterpeil')\n",
    "plot.xlabel('Waterpeil (cm boven NAP)')\n",
    "plot.ylabel('Energieverbruik')\n",
    "plot.grid(True)\n",
    "plot.ylim(-300000, 5000000)\n",
    "plot.show()"
   ]
  },
  {
   "cell_type": "code",
   "execution_count": null,
   "id": "f213efd2-2d54-496e-8cde-14f7efe3cbd2",
   "metadata": {
    "tags": []
   },
   "outputs": [],
   "source": [
    "#zelfde als diagram hierboven alleen dan met water level na replacement\n",
    "\n",
    "plot.figure(figsize=(10, 6))\n",
    "plot.scatter(after_replacement['water_level_cmNAP'], after_replacement['energy_proxy'], color='green', alpha=0.2)\n",
    "plot.title('Na replacement - Scatterplot van energieverbruik tegenover waterpeil')\n",
    "plot.xlabel('Waterpeil (cm boven NAP)')\n",
    "plot.ylabel('Energieverbruik')\n",
    "plot.grid(True)\n",
    "plot.ylim(-300000, 5000000)\n",
    "plot.show()"
   ]
  },
  {
   "cell_type": "code",
   "execution_count": null,
   "id": "678c72e5-7a76-4318-a4c0-8a813d652459",
   "metadata": {},
   "outputs": [],
   "source": [
    "df.describe()"
   ]
  },
  {
   "cell_type": "code",
   "execution_count": null,
   "id": "e23c6ed3-e25d-42b5-9e2d-3d49b79f91dc",
   "metadata": {},
   "outputs": [],
   "source": [
    "df.energy_proxy[(df['energy_proxy'] <= 2000000) | (df['energy_proxy'] >= 4000000)].count()"
   ]
  },
  {
   "cell_type": "code",
   "execution_count": null,
   "id": "e3541bdc-2ec8-4d0b-9b0d-3b4944e0adc9",
   "metadata": {
    "tags": []
   },
   "outputs": [],
   "source": [
    "df['day_of_week'] = df['datetime'].dt.day_name()\n",
    "before_replacement['day_of_week'] =  before_replacement['datetime'].dt.day_name()\n",
    "after_replacement['day_of_week'] = after_replacement['datetime'].dt.day_name()"
   ]
  },
  {
   "cell_type": "code",
   "execution_count": null,
   "id": "2defa558-ca71-44a9-b314-5655eab9cd2d",
   "metadata": {
    "tags": []
   },
   "outputs": [],
   "source": [
    "before_replacement.head(-5)"
   ]
  },
  {
   "cell_type": "code",
   "execution_count": null,
   "id": "66bd25ba-30c2-4463-902b-c5bcef54a4c3",
   "metadata": {
    "tags": []
   },
   "outputs": [],
   "source": [
    "after_replacement.head(-5)"
   ]
  },
  {
   "cell_type": "code",
   "execution_count": null,
   "id": "3a8a554b-f537-43c7-83b5-37e0ec88d175",
   "metadata": {
    "tags": []
   },
   "outputs": [],
   "source": [
    "encoder = OneHotEncoder()\n",
    "encoder.fit(before_replacement)"
   ]
  },
  {
   "cell_type": "code",
   "execution_count": null,
   "id": "f0785fac-8a22-499b-8f34-f104687666fe",
   "metadata": {
    "tags": []
   },
   "outputs": [],
   "source": [
    "data = [['Monday'], ['Tuesday'], ['Wednesday'], ['Thursday'], ['Friday'], ['Saturday'], ['Sunday']]\n",
    "\n",
    "# Create the OneHotEncoder instance\n",
    "encoder = OneHotEncoder()\n",
    "\n",
    "# Fit the encoder to your data\n",
    "encoder.fit(data)\n",
    "\n",
    "# Transform your data\n",
    "encoded_data = encoder.transform(pd.DataFrame(df.day_of_week)).toarray()\n",
    "\n",
    "# Get the feature names\n",
    "feature_names = encoder.get_feature_names_out(['day_of_week'])\n",
    "\n",
    "# Print the encoded data and feature names\n",
    "print(\"Encoded data:\")\n",
    "print(encoded_data)\n",
    "print(\"\\nFeature names:\")\n",
    "print(feature_names)"
   ]
  },
  {
   "cell_type": "code",
   "execution_count": null,
   "id": "cf2992c5-d3c7-41cf-8005-b5c37c97d6c3",
   "metadata": {
    "tags": []
   },
   "outputs": [],
   "source": [
    "encoded_data = pd.DataFrame(encoded_data)\n",
    "df['monday'] = encoded_data[1]\n",
    "df['tuesday'] = encoded_data[5]\n",
    "df['wednesday'] = encoded_data[6]\n",
    "df['thursday'] = encoded_data[4]\n",
    "df['friday'] = encoded_data[0]\n",
    "df['saturday'] = encoded_data[2]\n",
    "df['sunday'] = encoded_data[3]\n",
    "df"
   ]
  },
  {
   "cell_type": "code",
   "execution_count": null,
   "id": "1bc9ff28-d143-48bd-80a7-437b557f68ba",
   "metadata": {
    "tags": []
   },
   "outputs": [],
   "source": [
    "before_corr = before_replacement.select_dtypes(include=['float64', 'int64']).corr()\n",
    "after_corr = after_replacement.select_dtypes(include=['float64', 'int64']).corr()"
   ]
  },
  {
   "cell_type": "code",
   "execution_count": null,
   "id": "42e8f215-3b9d-421a-b9b7-00723855d3f9",
   "metadata": {
    "tags": []
   },
   "outputs": [],
   "source": [
    "whole_corr = df.select_dtypes(include=['float64', 'int64']).corr()"
   ]
  },
  {
   "cell_type": "code",
   "execution_count": null,
   "id": "04e78f9e-754b-4e8c-b22a-0d10d3d49bad",
   "metadata": {
    "tags": []
   },
   "outputs": [],
   "source": [
    "plt.figure(figsize=(10, 8))  # Adjust width and height as needed\n",
    "\n",
    "# Plot the heatmap\n",
    "seaborn.heatmap(whole_corr, annot=True, cmap='coolwarm')\n",
    "\n",
    "# Show the plot\n",
    "plt.show()"
   ]
  },
  {
   "cell_type": "code",
   "execution_count": null,
   "id": "b84faab3-4fe9-4c6d-b88a-d5eb4c7d938c",
   "metadata": {
    "tags": []
   },
   "outputs": [],
   "source": [
    "plt.figure(figsize=(10, 8))  # Adjust width and height as needed\n",
    "\n",
    "# Plot the heatmap\n",
    "seaborn.heatmap(before_corr, annot=True, cmap='coolwarm')\n",
    "\n",
    "# Show the plot\n",
    "plt.show()"
   ]
  },
  {
   "cell_type": "code",
   "execution_count": null,
   "id": "1a8c9f93-60a0-43b9-afcc-f306b05bf7e4",
   "metadata": {
    "tags": []
   },
   "outputs": [],
   "source": [
    "plt.figure(figsize=(10, 8))  # Adjust width and height as needed\n",
    "\n",
    "# Plot the heatmap\n",
    "seaborn.heatmap(after_corr, annot=True, cmap='coolwarm')\n",
    "\n",
    "# Show the plot\n",
    "plt.show()"
   ]
  },
  {
   "cell_type": "code",
   "execution_count": null,
   "id": "7f7763cd-b4b6-4827-b280-058a9e6d55a4",
   "metadata": {},
   "outputs": [],
   "source": [
    "plot.scatter(df.monday, df.energy_proxy)"
   ]
  },
  {
   "cell_type": "code",
   "execution_count": null,
   "id": "eb05dbdb-594b-45c7-94e0-814ff94263ab",
   "metadata": {},
   "outputs": [],
   "source": []
  },
  {
   "cell_type": "code",
   "execution_count": null,
   "id": "8b71606b-abb6-41cd-812d-838d24811d0f",
   "metadata": {},
   "outputs": [],
   "source": []
  },
  {
   "cell_type": "code",
   "execution_count": null,
   "id": "5f2c058a-9261-4b01-953b-edfe1bba3a78",
   "metadata": {},
   "outputs": [],
   "source": []
  },
  {
   "cell_type": "code",
   "execution_count": null,
   "id": "974d27f2-d235-46de-a6dc-326ce40fe249",
   "metadata": {},
   "outputs": [],
   "source": []
  }
 ],
 "metadata": {
  "kernelspec": {
   "display_name": "Python 3 (ipykernel)",
   "language": "python",
   "name": "python3"
  },
  "language_info": {
   "codemirror_mode": {
    "name": "ipython",
    "version": 3
   },
   "file_extension": ".py",
   "mimetype": "text/x-python",
   "name": "python",
   "nbconvert_exporter": "python",
   "pygments_lexer": "ipython3",
   "version": "3.11.5"
  }
 },
 "nbformat": 4,
 "nbformat_minor": 5
}
